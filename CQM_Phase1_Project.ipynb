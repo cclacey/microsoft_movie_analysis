{
 "cells": [
  {
   "cell_type": "markdown",
   "metadata": {},
   "source": [
    "![example](images/streaming_platforms_entertainment.png)"
   ]
  },
  {
   "cell_type": "markdown",
   "metadata": {},
   "source": [
    "# Microsoft Film Industry and Streaming Platform Analysis \n",
    "\n",
    "**Authors:** CeCe Lacey, Qiwen Ou, Mallory Wilson\n",
    "***"
   ]
  },
  {
   "cell_type": "markdown",
   "metadata": {},
   "source": [
    "## Overview\n",
    "\n",
    "When we were first faced with the question of whether or not Microsoft should pursue a path towards movie producing, we quickly knew we were going to reccomend that Microsoft consider creating a streaming platform as opposed to a movie studio. In the last 10 years movie theaters have seen a decrease in attendance while streaming platforms have seen an increase in subscriptions. With the COVID-19 Pandemic also turning the world on its head in early 2020 we have had a dramatic shift in how we spend our time and how we consume media. This new consumption is heavily focused on streaming platforms. We looked at box office data as well as streaming platform data to discover that this trend would indeed allow us to confidently reccomend that Microsoft forego their plans to build a movie studio and instead to create a streaming platform to share a variety of content with their subscribers. "
   ]
  },
  {
   "cell_type": "markdown",
   "metadata": {},
   "source": [
    "## Business Problem\n",
    "\n",
    "Microsoft is curious to know how they should go about creating a movie studio to break into the film industry. Before making our reccomendations we decided to answer a few key questions:\n",
    "- What have box office trends looked like over the last decade?\n",
    "- What trends can we see in streaming platform subscriptions and revenues over the last decaede?\n",
    "- What type of content exists on successful streaming platforms?\n",
    "In answering these questions we will determine whether movie producing is the best route for Microsoft to pursue or if a streaming platform may be a better option."
   ]
  },
  {
   "cell_type": "markdown",
   "metadata": {},
   "source": [
    "## Data Understanding\n",
    "We utilized a combination of data from the supplied data as well as a few data sets from Kaggle and google dataset search. We wanted to get a high level view of movies that were successful at the box office as well as recent movie going trends. Additionally, we sought out streaming platform data. We wanted to see what streaming platform subscriptions, revenues, and available content looked like. This overview would give us insight into the potential upside of recommending Microsoft invest in a streaming platform as opposed to a movie studio. We hoped to see that movies that are successful at the box office end up being able to be viewed on streaming platforms as well as that streaming platform subscriptions are increasing. This would give us significant data to suggest Microsoft's most lucrative entry into the film industry would be to build a subscription based streaming platform. "
   ]
  },
  {
   "cell_type": "code",
   "execution_count": 1,
   "metadata": {},
   "outputs": [],
   "source": [
    "# Import standard packages\n",
    "import pandas as pd\n",
    "import numpy as np\n",
    "import matplotlib.pyplot as plt\n",
    "from src.make_db import create_movies_db\n",
    "import sqlite3 \n",
    "conn = sqlite3.connect('data/movies.db')\n",
    "# Initialize a cursor\n",
    "cursor = conn.cursor()\n",
    "%matplotlib inline"
   ]
  },
  {
   "cell_type": "code",
   "execution_count": 2,
   "metadata": {},
   "outputs": [
    {
     "data": {
      "text/html": [
       "<div>\n",
       "<style scoped>\n",
       "    .dataframe tbody tr th:only-of-type {\n",
       "        vertical-align: middle;\n",
       "    }\n",
       "\n",
       "    .dataframe tbody tr th {\n",
       "        vertical-align: top;\n",
       "    }\n",
       "\n",
       "    .dataframe thead th {\n",
       "        text-align: right;\n",
       "    }\n",
       "</style>\n",
       "<table border=\"1\" class=\"dataframe\">\n",
       "  <thead>\n",
       "    <tr style=\"text-align: right;\">\n",
       "      <th></th>\n",
       "      <th>id</th>\n",
       "      <th>release_date</th>\n",
       "      <th>movie</th>\n",
       "      <th>production_budget</th>\n",
       "      <th>domestic_gross</th>\n",
       "      <th>worldwide_gross</th>\n",
       "    </tr>\n",
       "  </thead>\n",
       "  <tbody>\n",
       "    <tr>\n",
       "      <th>0</th>\n",
       "      <td>1</td>\n",
       "      <td>Dec 18, 2009</td>\n",
       "      <td>Avatar</td>\n",
       "      <td>$425,000,000</td>\n",
       "      <td>$760,507,625</td>\n",
       "      <td>$2,776,345,279</td>\n",
       "    </tr>\n",
       "    <tr>\n",
       "      <th>1</th>\n",
       "      <td>2</td>\n",
       "      <td>May 20, 2011</td>\n",
       "      <td>Pirates of the Caribbean: On Stranger Tides</td>\n",
       "      <td>$410,600,000</td>\n",
       "      <td>$241,063,875</td>\n",
       "      <td>$1,045,663,875</td>\n",
       "    </tr>\n",
       "    <tr>\n",
       "      <th>2</th>\n",
       "      <td>3</td>\n",
       "      <td>Jun 7, 2019</td>\n",
       "      <td>Dark Phoenix</td>\n",
       "      <td>$350,000,000</td>\n",
       "      <td>$42,762,350</td>\n",
       "      <td>$149,762,350</td>\n",
       "    </tr>\n",
       "    <tr>\n",
       "      <th>3</th>\n",
       "      <td>4</td>\n",
       "      <td>May 1, 2015</td>\n",
       "      <td>Avengers: Age of Ultron</td>\n",
       "      <td>$330,600,000</td>\n",
       "      <td>$459,005,868</td>\n",
       "      <td>$1,403,013,963</td>\n",
       "    </tr>\n",
       "    <tr>\n",
       "      <th>4</th>\n",
       "      <td>5</td>\n",
       "      <td>Dec 15, 2017</td>\n",
       "      <td>Star Wars Ep. VIII: The Last Jedi</td>\n",
       "      <td>$317,000,000</td>\n",
       "      <td>$620,181,382</td>\n",
       "      <td>$1,316,721,747</td>\n",
       "    </tr>\n",
       "  </tbody>\n",
       "</table>\n",
       "</div>"
      ],
      "text/plain": [
       "   id  release_date                                        movie  \\\n",
       "0   1  Dec 18, 2009                                       Avatar   \n",
       "1   2  May 20, 2011  Pirates of the Caribbean: On Stranger Tides   \n",
       "2   3   Jun 7, 2019                                 Dark Phoenix   \n",
       "3   4   May 1, 2015                      Avengers: Age of Ultron   \n",
       "4   5  Dec 15, 2017            Star Wars Ep. VIII: The Last Jedi   \n",
       "\n",
       "  production_budget domestic_gross worldwide_gross  \n",
       "0      $425,000,000   $760,507,625  $2,776,345,279  \n",
       "1      $410,600,000   $241,063,875  $1,045,663,875  \n",
       "2      $350,000,000    $42,762,350    $149,762,350  \n",
       "3      $330,600,000   $459,005,868  $1,403,013,963  \n",
       "4      $317,000,000   $620,181,382  $1,316,721,747  "
      ]
     },
     "execution_count": 2,
     "metadata": {},
     "output_type": "execute_result"
    }
   ],
   "source": [
    "#Load data and see a preview\n",
    "budgets = pd.read_csv('data/zippedData/tn.movie_budgets.csv.gz') \n",
    "budgets.head()"
   ]
  },
  {
   "cell_type": "code",
   "execution_count": 3,
   "metadata": {},
   "outputs": [],
   "source": [
    "#Change values to float to be able to order by value\n",
    "budgets['domestic_gross'] = budgets['domestic_gross'].replace({'\\$': '', ',': ''}, regex=True).astype(float) \n",
    "budgets['worldwide_gross'] = budgets['worldwide_gross'].replace({'\\$': '', ',': ''}, regex=True).astype(float)\n",
    "budgets['production_budget'] = budgets['production_budget'].replace({'\\$': '', ',': ''}, regex=True).astype(float)"
   ]
  },
  {
   "cell_type": "code",
   "execution_count": 4,
   "metadata": {},
   "outputs": [],
   "source": [
    "#Create a column to aggregate domestic and global gross profits and sort by that value\n",
    "budgets['end_gross'] = budgets['domestic_gross'] + budgets['worldwide_gross'] - budgets['production_budget'] \n",
    "budgets = budgets.sort_values(by='end_gross', ascending=False)"
   ]
  },
  {
   "cell_type": "markdown",
   "metadata": {},
   "source": [
    "### It is important to note the data we are importing below only has data for Netflix, Hulu, Prime Video, and Disney+. These do not represent the streaming industry as a whole, but do represent a significant portion. We recognize there are also nuances between these platforms including but not limited to the newness of Disney+ as well as the ability to purchase content not included in your subscription on Prime Video."
   ]
  },
  {
   "cell_type": "code",
   "execution_count": 5,
   "metadata": {
    "scrolled": true
   },
   "outputs": [],
   "source": [
    "#Import streaming platform data from Kaggle source\n",
    "stream_platform = pd.read_csv('data/MoviesOnStreamingPlatforms_updated.csv')\n",
    "#Remove rows that do not have Rotten Tomatoes rating data to ensure \n",
    "#we have some measure of movie success within this new dataframe.\n",
    "stream_platform = stream_platform.dropna(subset = ['Rotten Tomatoes'])\n",
    "#Create series of movie titles found in the streaming platform data\n",
    "stream_title = stream_platform['Title']\n",
    "#Create a series of movie titles found in our original data to be \n",
    "#able to cross reference with our new data\n",
    "data_title = budgets['movie']"
   ]
  },
  {
   "cell_type": "code",
   "execution_count": 6,
   "metadata": {},
   "outputs": [
    {
     "data": {
      "text/html": [
       "<div>\n",
       "<style scoped>\n",
       "    .dataframe tbody tr th:only-of-type {\n",
       "        vertical-align: middle;\n",
       "    }\n",
       "\n",
       "    .dataframe tbody tr th {\n",
       "        vertical-align: top;\n",
       "    }\n",
       "\n",
       "    .dataframe thead th {\n",
       "        text-align: right;\n",
       "    }\n",
       "</style>\n",
       "<table border=\"1\" class=\"dataframe\">\n",
       "  <thead>\n",
       "    <tr style=\"text-align: right;\">\n",
       "      <th></th>\n",
       "      <th>Unnamed: 0</th>\n",
       "      <th>ID</th>\n",
       "      <th>Year</th>\n",
       "      <th>IMDb</th>\n",
       "      <th>Netflix</th>\n",
       "      <th>Hulu</th>\n",
       "      <th>Prime Video</th>\n",
       "      <th>Disney+</th>\n",
       "      <th>Type</th>\n",
       "      <th>Runtime</th>\n",
       "    </tr>\n",
       "  </thead>\n",
       "  <tbody>\n",
       "    <tr>\n",
       "      <th>count</th>\n",
       "      <td>4170.000000</td>\n",
       "      <td>4170.000000</td>\n",
       "      <td>4170.000000</td>\n",
       "      <td>4168.000000</td>\n",
       "      <td>4170.000000</td>\n",
       "      <td>4170.000000</td>\n",
       "      <td>4170.000000</td>\n",
       "      <td>4170.000000</td>\n",
       "      <td>4170.0</td>\n",
       "      <td>4134.000000</td>\n",
       "    </tr>\n",
       "    <tr>\n",
       "      <th>mean</th>\n",
       "      <td>5182.040528</td>\n",
       "      <td>5183.040528</td>\n",
       "      <td>2006.755156</td>\n",
       "      <td>6.334597</td>\n",
       "      <td>0.254916</td>\n",
       "      <td>0.116787</td>\n",
       "      <td>0.627338</td>\n",
       "      <td>0.047722</td>\n",
       "      <td>0.0</td>\n",
       "      <td>98.558539</td>\n",
       "    </tr>\n",
       "    <tr>\n",
       "      <th>std</th>\n",
       "      <td>3655.057345</td>\n",
       "      <td>3655.057345</td>\n",
       "      <td>17.584535</td>\n",
       "      <td>1.008960</td>\n",
       "      <td>0.435866</td>\n",
       "      <td>0.321204</td>\n",
       "      <td>0.483571</td>\n",
       "      <td>0.213203</td>\n",
       "      <td>0.0</td>\n",
       "      <td>21.560719</td>\n",
       "    </tr>\n",
       "    <tr>\n",
       "      <th>min</th>\n",
       "      <td>4.000000</td>\n",
       "      <td>5.000000</td>\n",
       "      <td>1902.000000</td>\n",
       "      <td>1.600000</td>\n",
       "      <td>0.000000</td>\n",
       "      <td>0.000000</td>\n",
       "      <td>0.000000</td>\n",
       "      <td>0.000000</td>\n",
       "      <td>0.0</td>\n",
       "      <td>7.000000</td>\n",
       "    </tr>\n",
       "    <tr>\n",
       "      <th>25%</th>\n",
       "      <td>2607.750000</td>\n",
       "      <td>2608.750000</td>\n",
       "      <td>2005.250000</td>\n",
       "      <td>5.700000</td>\n",
       "      <td>0.000000</td>\n",
       "      <td>0.000000</td>\n",
       "      <td>0.000000</td>\n",
       "      <td>0.000000</td>\n",
       "      <td>0.0</td>\n",
       "      <td>88.000000</td>\n",
       "    </tr>\n",
       "    <tr>\n",
       "      <th>50%</th>\n",
       "      <td>5141.500000</td>\n",
       "      <td>5142.500000</td>\n",
       "      <td>2014.000000</td>\n",
       "      <td>6.400000</td>\n",
       "      <td>0.000000</td>\n",
       "      <td>0.000000</td>\n",
       "      <td>1.000000</td>\n",
       "      <td>0.000000</td>\n",
       "      <td>0.0</td>\n",
       "      <td>96.000000</td>\n",
       "    </tr>\n",
       "    <tr>\n",
       "      <th>75%</th>\n",
       "      <td>6499.750000</td>\n",
       "      <td>6500.750000</td>\n",
       "      <td>2017.000000</td>\n",
       "      <td>7.100000</td>\n",
       "      <td>1.000000</td>\n",
       "      <td>0.000000</td>\n",
       "      <td>1.000000</td>\n",
       "      <td>0.000000</td>\n",
       "      <td>0.0</td>\n",
       "      <td>107.750000</td>\n",
       "    </tr>\n",
       "    <tr>\n",
       "      <th>max</th>\n",
       "      <td>16687.000000</td>\n",
       "      <td>16688.000000</td>\n",
       "      <td>2020.000000</td>\n",
       "      <td>8.800000</td>\n",
       "      <td>1.000000</td>\n",
       "      <td>1.000000</td>\n",
       "      <td>1.000000</td>\n",
       "      <td>1.000000</td>\n",
       "      <td>0.0</td>\n",
       "      <td>270.000000</td>\n",
       "    </tr>\n",
       "  </tbody>\n",
       "</table>\n",
       "</div>"
      ],
      "text/plain": [
       "         Unnamed: 0            ID         Year         IMDb      Netflix  \\\n",
       "count   4170.000000   4170.000000  4170.000000  4168.000000  4170.000000   \n",
       "mean    5182.040528   5183.040528  2006.755156     6.334597     0.254916   \n",
       "std     3655.057345   3655.057345    17.584535     1.008960     0.435866   \n",
       "min        4.000000      5.000000  1902.000000     1.600000     0.000000   \n",
       "25%     2607.750000   2608.750000  2005.250000     5.700000     0.000000   \n",
       "50%     5141.500000   5142.500000  2014.000000     6.400000     0.000000   \n",
       "75%     6499.750000   6500.750000  2017.000000     7.100000     1.000000   \n",
       "max    16687.000000  16688.000000  2020.000000     8.800000     1.000000   \n",
       "\n",
       "              Hulu  Prime Video      Disney+    Type      Runtime  \n",
       "count  4170.000000  4170.000000  4170.000000  4170.0  4134.000000  \n",
       "mean      0.116787     0.627338     0.047722     0.0    98.558539  \n",
       "std       0.321204     0.483571     0.213203     0.0    21.560719  \n",
       "min       0.000000     0.000000     0.000000     0.0     7.000000  \n",
       "25%       0.000000     0.000000     0.000000     0.0    88.000000  \n",
       "50%       0.000000     1.000000     0.000000     0.0    96.000000  \n",
       "75%       0.000000     1.000000     0.000000     0.0   107.750000  \n",
       "max       1.000000     1.000000     1.000000     0.0   270.000000  "
      ]
     },
     "execution_count": 6,
     "metadata": {},
     "output_type": "execute_result"
    }
   ],
   "source": [
    "#Createa a dataframe that inclueds all of the movies that are in our original movie data \n",
    "#as well as the new streaming data\n",
    "streammoviedata = stream_platform[stream_platform['Title'].isin(data_title)]\n",
    "#Create series of just the titles from the above data\n",
    "streammovie_titles = streammoviedata['Title']\n",
    "#Find all of the movies that are in our original movie data, but NOT in our\n",
    "#new streaming data and see description\n",
    "(stream_platform[~stream_platform['Title'].isin(data_title)]).describe()"
   ]
  },
  {
   "cell_type": "code",
   "execution_count": 7,
   "metadata": {},
   "outputs": [
    {
     "data": {
      "text/html": [
       "<div>\n",
       "<style scoped>\n",
       "    .dataframe tbody tr th:only-of-type {\n",
       "        vertical-align: middle;\n",
       "    }\n",
       "\n",
       "    .dataframe tbody tr th {\n",
       "        vertical-align: top;\n",
       "    }\n",
       "\n",
       "    .dataframe thead th {\n",
       "        text-align: right;\n",
       "    }\n",
       "</style>\n",
       "<table border=\"1\" class=\"dataframe\">\n",
       "  <thead>\n",
       "    <tr style=\"text-align: right;\">\n",
       "      <th></th>\n",
       "      <th>id</th>\n",
       "      <th>production_budget</th>\n",
       "      <th>domestic_gross</th>\n",
       "      <th>worldwide_gross</th>\n",
       "      <th>end_gross</th>\n",
       "    </tr>\n",
       "  </thead>\n",
       "  <tbody>\n",
       "    <tr>\n",
       "      <th>count</th>\n",
       "      <td>4291.000000</td>\n",
       "      <td>4.291000e+03</td>\n",
       "      <td>4.291000e+03</td>\n",
       "      <td>4.291000e+03</td>\n",
       "      <td>4.291000e+03</td>\n",
       "    </tr>\n",
       "    <tr>\n",
       "      <th>mean</th>\n",
       "      <td>50.186204</td>\n",
       "      <td>3.243548e+07</td>\n",
       "      <td>4.344763e+07</td>\n",
       "      <td>9.425513e+07</td>\n",
       "      <td>1.052673e+08</td>\n",
       "    </tr>\n",
       "    <tr>\n",
       "      <th>std</th>\n",
       "      <td>28.836660</td>\n",
       "      <td>4.005439e+07</td>\n",
       "      <td>6.501099e+07</td>\n",
       "      <td>1.661247e+08</td>\n",
       "      <td>2.017095e+08</td>\n",
       "    </tr>\n",
       "    <tr>\n",
       "      <th>min</th>\n",
       "      <td>1.000000</td>\n",
       "      <td>1.100000e+03</td>\n",
       "      <td>4.010000e+02</td>\n",
       "      <td>4.010000e+02</td>\n",
       "      <td>-1.574753e+08</td>\n",
       "    </tr>\n",
       "    <tr>\n",
       "      <th>25%</th>\n",
       "      <td>25.000000</td>\n",
       "      <td>6.000000e+06</td>\n",
       "      <td>4.000000e+06</td>\n",
       "      <td>7.833752e+06</td>\n",
       "      <td>1.243676e+06</td>\n",
       "    </tr>\n",
       "    <tr>\n",
       "      <th>50%</th>\n",
       "      <td>50.000000</td>\n",
       "      <td>1.940000e+07</td>\n",
       "      <td>2.096664e+07</td>\n",
       "      <td>3.346201e+07</td>\n",
       "      <td>3.250004e+07</td>\n",
       "    </tr>\n",
       "    <tr>\n",
       "      <th>75%</th>\n",
       "      <td>75.000000</td>\n",
       "      <td>4.100000e+07</td>\n",
       "      <td>5.507109e+07</td>\n",
       "      <td>1.044966e+08</td>\n",
       "      <td>1.200958e+08</td>\n",
       "    </tr>\n",
       "    <tr>\n",
       "      <th>max</th>\n",
       "      <td>100.000000</td>\n",
       "      <td>3.500000e+08</td>\n",
       "      <td>9.366622e+08</td>\n",
       "      <td>2.208208e+09</td>\n",
       "      <td>2.683973e+09</td>\n",
       "    </tr>\n",
       "  </tbody>\n",
       "</table>\n",
       "</div>"
      ],
      "text/plain": [
       "                id  production_budget  domestic_gross  worldwide_gross  \\\n",
       "count  4291.000000       4.291000e+03    4.291000e+03     4.291000e+03   \n",
       "mean     50.186204       3.243548e+07    4.344763e+07     9.425513e+07   \n",
       "std      28.836660       4.005439e+07    6.501099e+07     1.661247e+08   \n",
       "min       1.000000       1.100000e+03    4.010000e+02     4.010000e+02   \n",
       "25%      25.000000       6.000000e+06    4.000000e+06     7.833752e+06   \n",
       "50%      50.000000       1.940000e+07    2.096664e+07     3.346201e+07   \n",
       "75%      75.000000       4.100000e+07    5.507109e+07     1.044966e+08   \n",
       "max     100.000000       3.500000e+08    9.366622e+08     2.208208e+09   \n",
       "\n",
       "          end_gross  \n",
       "count  4.291000e+03  \n",
       "mean   1.052673e+08  \n",
       "std    2.017095e+08  \n",
       "min   -1.574753e+08  \n",
       "25%    1.243676e+06  \n",
       "50%    3.250004e+07  \n",
       "75%    1.200958e+08  \n",
       "max    2.683973e+09  "
      ]
     },
     "execution_count": 7,
     "metadata": {},
     "output_type": "execute_result"
    }
   ],
   "source": [
    "#Create a data frame showing all the movies that are found in our new streaming data\n",
    "#as well as in the given movie data\n",
    "budgets[budgets['movie'].isin(streammovie_titles)]\n",
    "#Find all of the movies that are in our new streaming data, but that are not found in \n",
    "#our original movie data\n",
    "budgets[~budgets['movie'].isin(streammovie_titles)]\n",
    "#Get rid of rows that show no data for both domestic_gross and world_wide gross (just one\n",
    "#value could indicate either a solely domestic release or solely global release)\n",
    "df = budgets.loc[(budgets['domestic_gross'] > 0.0) & (budgets['worldwide_gross'] > 0.0)]\n",
    "df\n",
    "#Filter to find total (end) gross for all movies not found on streaming platforms \n",
    "nonstream_eg=df[~df['movie'].isin(streammovie_titles)]\n",
    "#Find average final gross for movies not found on streaming platforms\n",
    "nonstream_eg.describe()"
   ]
  },
  {
   "cell_type": "code",
   "execution_count": 8,
   "metadata": {},
   "outputs": [
    {
     "data": {
      "text/html": [
       "<div>\n",
       "<style scoped>\n",
       "    .dataframe tbody tr th:only-of-type {\n",
       "        vertical-align: middle;\n",
       "    }\n",
       "\n",
       "    .dataframe tbody tr th {\n",
       "        vertical-align: top;\n",
       "    }\n",
       "\n",
       "    .dataframe thead th {\n",
       "        text-align: right;\n",
       "    }\n",
       "</style>\n",
       "<table border=\"1\" class=\"dataframe\">\n",
       "  <thead>\n",
       "    <tr style=\"text-align: right;\">\n",
       "      <th></th>\n",
       "      <th>id</th>\n",
       "      <th>production_budget</th>\n",
       "      <th>domestic_gross</th>\n",
       "      <th>worldwide_gross</th>\n",
       "      <th>end_gross</th>\n",
       "    </tr>\n",
       "  </thead>\n",
       "  <tbody>\n",
       "    <tr>\n",
       "      <th>count</th>\n",
       "      <td>943.000000</td>\n",
       "      <td>9.430000e+02</td>\n",
       "      <td>9.430000e+02</td>\n",
       "      <td>9.430000e+02</td>\n",
       "      <td>9.430000e+02</td>\n",
       "    </tr>\n",
       "    <tr>\n",
       "      <th>mean</th>\n",
       "      <td>51.076352</td>\n",
       "      <td>4.130498e+07</td>\n",
       "      <td>5.904326e+07</td>\n",
       "      <td>1.303679e+08</td>\n",
       "      <td>1.481062e+08</td>\n",
       "    </tr>\n",
       "    <tr>\n",
       "      <th>std</th>\n",
       "      <td>28.907321</td>\n",
       "      <td>5.368128e+07</td>\n",
       "      <td>8.946631e+07</td>\n",
       "      <td>2.355588e+08</td>\n",
       "      <td>2.803931e+08</td>\n",
       "    </tr>\n",
       "    <tr>\n",
       "      <th>min</th>\n",
       "      <td>1.000000</td>\n",
       "      <td>3.000000e+04</td>\n",
       "      <td>3.880000e+02</td>\n",
       "      <td>7.030000e+02</td>\n",
       "      <td>-8.905748e+07</td>\n",
       "    </tr>\n",
       "    <tr>\n",
       "      <th>25%</th>\n",
       "      <td>26.000000</td>\n",
       "      <td>7.150000e+06</td>\n",
       "      <td>5.978240e+06</td>\n",
       "      <td>1.074536e+07</td>\n",
       "      <td>5.436333e+06</td>\n",
       "    </tr>\n",
       "    <tr>\n",
       "      <th>50%</th>\n",
       "      <td>51.000000</td>\n",
       "      <td>2.000000e+07</td>\n",
       "      <td>2.808716e+07</td>\n",
       "      <td>4.715865e+07</td>\n",
       "      <td>4.744992e+07</td>\n",
       "    </tr>\n",
       "    <tr>\n",
       "      <th>75%</th>\n",
       "      <td>76.500000</td>\n",
       "      <td>5.000000e+07</td>\n",
       "      <td>7.216403e+07</td>\n",
       "      <td>1.408390e+08</td>\n",
       "      <td>1.627550e+08</td>\n",
       "    </tr>\n",
       "    <tr>\n",
       "      <th>max</th>\n",
       "      <td>100.000000</td>\n",
       "      <td>4.250000e+08</td>\n",
       "      <td>7.605076e+08</td>\n",
       "      <td>2.776345e+09</td>\n",
       "      <td>3.111853e+09</td>\n",
       "    </tr>\n",
       "  </tbody>\n",
       "</table>\n",
       "</div>"
      ],
      "text/plain": [
       "               id  production_budget  domestic_gross  worldwide_gross  \\\n",
       "count  943.000000       9.430000e+02    9.430000e+02     9.430000e+02   \n",
       "mean    51.076352       4.130498e+07    5.904326e+07     1.303679e+08   \n",
       "std     28.907321       5.368128e+07    8.946631e+07     2.355588e+08   \n",
       "min      1.000000       3.000000e+04    3.880000e+02     7.030000e+02   \n",
       "25%     26.000000       7.150000e+06    5.978240e+06     1.074536e+07   \n",
       "50%     51.000000       2.000000e+07    2.808716e+07     4.715865e+07   \n",
       "75%     76.500000       5.000000e+07    7.216403e+07     1.408390e+08   \n",
       "max    100.000000       4.250000e+08    7.605076e+08     2.776345e+09   \n",
       "\n",
       "          end_gross  \n",
       "count  9.430000e+02  \n",
       "mean   1.481062e+08  \n",
       "std    2.803931e+08  \n",
       "min   -8.905748e+07  \n",
       "25%    5.436333e+06  \n",
       "50%    4.744992e+07  \n",
       "75%    1.627550e+08  \n",
       "max    3.111853e+09  "
      ]
     },
     "execution_count": 8,
     "metadata": {},
     "output_type": "execute_result"
    }
   ],
   "source": [
    "df_title = df['movie']\n",
    "#Total gross profit of all the movies found on at least one of the streaming platforms\n",
    "onstream_eg=df[df['movie'].isin(streammovie_titles)] \n",
    "#Average tota gross of these movies\n",
    "onstream_eg.describe()"
   ]
  },
  {
   "cell_type": "code",
   "execution_count": 9,
   "metadata": {
    "scrolled": true
   },
   "outputs": [],
   "source": [
    "\n",
    "df_nonstream = stream_platform[~stream_platform['Title'].isin(df_title)] #CECE's data on movies NOT on stream\n",
    "df_stream = stream_platform[stream_platform['Title'].isin(df_title)] #CECE's data on movies on stream\n",
    "dfbudgetfilter = df[df['movie'].isin(df_stream['Title'])] #filter two lists together"
   ]
  },
  {
   "cell_type": "code",
   "execution_count": 10,
   "metadata": {
    "scrolled": true
   },
   "outputs": [
    {
     "name": "stderr",
     "output_type": "stream",
     "text": [
      "<ipython-input-10-8e5a546ea521>:1: SettingWithCopyWarning: \n",
      "A value is trying to be set on a copy of a slice from a DataFrame.\n",
      "Try using .loc[row_indexer,col_indexer] = value instead\n",
      "\n",
      "See the caveats in the documentation: https://pandas.pydata.org/pandas-docs/stable/user_guide/indexing.html#returning-a-view-versus-a-copy\n",
      "  dfbudgetfilter['Year'] = pd.DatetimeIndex(dfbudgetfilter['release_date']).year #make Year column to join\n"
     ]
    }
   ],
   "source": [
    "dfbudgetfilter['Year'] = pd.DatetimeIndex(dfbudgetfilter['release_date']).year #make Year column to join\n"
   ]
  },
  {
   "cell_type": "code",
   "execution_count": 11,
   "metadata": {},
   "outputs": [],
   "source": [
    "#Create variable showing???\n",
    "eg_value = [148.1062, 105.2673]"
   ]
  },
  {
   "cell_type": "markdown",
   "metadata": {},
   "source": [
    "## Data Preparation\n",
    "\n",
    "After acquiring a handful of additional data sources, we began our Exploratory Data Analysis and cleaning. Dropped variables mostly included null values to ensure accuracy across our data. We take a look here at how we began to initially look at and clean up our data.\n"
   ]
  },
  {
   "cell_type": "code",
   "execution_count": 12,
   "metadata": {},
   "outputs": [],
   "source": [
    "df_stream = df_stream.rename(columns={\"Title\": \"movie\"}) #change 'title' to 'movie' to join\n",
    "last_data = df_stream.merge(dfbudgetfilter, on=['movie', 'Year']) \n",
    "#joing/merging two data together with the same title and name"
   ]
  },
  {
   "cell_type": "code",
   "execution_count": 13,
   "metadata": {},
   "outputs": [
    {
     "data": {
      "text/plain": [
       "0    452\n",
       "1    303\n",
       "Name: Netflix, dtype: int64"
      ]
     },
     "execution_count": 13,
     "metadata": {},
     "output_type": "execute_result"
    }
   ],
   "source": [
    "#See how many movies in our combined data are available on Netflix\n",
    "last_data['Netflix'].value_counts() #1 = yes it is on"
   ]
  },
  {
   "cell_type": "code",
   "execution_count": 14,
   "metadata": {},
   "outputs": [
    {
     "data": {
      "text/plain": [
       "0    633\n",
       "1    122\n",
       "Name: Hulu, dtype: int64"
      ]
     },
     "execution_count": 14,
     "metadata": {},
     "output_type": "execute_result"
    }
   ],
   "source": [
    "#See how many movies in our combined data are available on Hulu\n",
    "last_data['Hulu'].value_counts()"
   ]
  },
  {
   "cell_type": "code",
   "execution_count": 15,
   "metadata": {},
   "outputs": [
    {
     "data": {
      "text/plain": [
       "0    456\n",
       "1    299\n",
       "Name: Prime Video, dtype: int64"
      ]
     },
     "execution_count": 15,
     "metadata": {},
     "output_type": "execute_result"
    }
   ],
   "source": [
    "#See how many movies in our combined data are available on Prime Video\n",
    "last_data['Prime Video'].value_counts()"
   ]
  },
  {
   "cell_type": "code",
   "execution_count": 16,
   "metadata": {
    "scrolled": true
   },
   "outputs": [
    {
     "data": {
      "text/plain": [
       "0    621\n",
       "1    134\n",
       "Name: Disney+, dtype: int64"
      ]
     },
     "execution_count": 16,
     "metadata": {},
     "output_type": "execute_result"
    }
   ],
   "source": [
    "#See how many movies in our combined data are available on Disney+\n",
    "last_data['Disney+'].value_counts()"
   ]
  },
  {
   "cell_type": "code",
   "execution_count": 17,
   "metadata": {},
   "outputs": [],
   "source": [
    "#Manually create variables with the amount of movies on each platform as well as \n",
    "#the names of the platforms to build a visualization\n",
    "numofmovie = [303, 122, 299, 134]\n",
    "nameofplatform = ['Netflix', 'Hulu', 'Prime Video', 'Disney+']"
   ]
  },
  {
   "cell_type": "code",
   "execution_count": 18,
   "metadata": {},
   "outputs": [
    {
     "data": {
      "text/html": [
       "<div>\n",
       "<style scoped>\n",
       "    .dataframe tbody tr th:only-of-type {\n",
       "        vertical-align: middle;\n",
       "    }\n",
       "\n",
       "    .dataframe tbody tr th {\n",
       "        vertical-align: top;\n",
       "    }\n",
       "\n",
       "    .dataframe thead th {\n",
       "        text-align: right;\n",
       "    }\n",
       "</style>\n",
       "<table border=\"1\" class=\"dataframe\">\n",
       "  <thead>\n",
       "    <tr style=\"text-align: right;\">\n",
       "      <th></th>\n",
       "      <th>Unnamed: 0</th>\n",
       "      <th>Title</th>\n",
       "      <th>Year</th>\n",
       "      <th>Age</th>\n",
       "      <th>IMDb</th>\n",
       "      <th>Rotten Tomatoes</th>\n",
       "      <th>Netflix</th>\n",
       "      <th>Hulu</th>\n",
       "      <th>Prime Video</th>\n",
       "      <th>Disney+</th>\n",
       "      <th>type</th>\n",
       "    </tr>\n",
       "  </thead>\n",
       "  <tbody>\n",
       "    <tr>\n",
       "      <th>0</th>\n",
       "      <td>0</td>\n",
       "      <td>Breaking Bad</td>\n",
       "      <td>2008</td>\n",
       "      <td>18+</td>\n",
       "      <td>9.5</td>\n",
       "      <td>96%</td>\n",
       "      <td>1</td>\n",
       "      <td>0</td>\n",
       "      <td>0</td>\n",
       "      <td>0</td>\n",
       "      <td>1</td>\n",
       "    </tr>\n",
       "    <tr>\n",
       "      <th>1</th>\n",
       "      <td>1</td>\n",
       "      <td>Stranger Things</td>\n",
       "      <td>2016</td>\n",
       "      <td>16+</td>\n",
       "      <td>8.8</td>\n",
       "      <td>93%</td>\n",
       "      <td>1</td>\n",
       "      <td>0</td>\n",
       "      <td>0</td>\n",
       "      <td>0</td>\n",
       "      <td>1</td>\n",
       "    </tr>\n",
       "    <tr>\n",
       "      <th>2</th>\n",
       "      <td>2</td>\n",
       "      <td>Money Heist</td>\n",
       "      <td>2017</td>\n",
       "      <td>18+</td>\n",
       "      <td>8.4</td>\n",
       "      <td>91%</td>\n",
       "      <td>1</td>\n",
       "      <td>0</td>\n",
       "      <td>0</td>\n",
       "      <td>0</td>\n",
       "      <td>1</td>\n",
       "    </tr>\n",
       "    <tr>\n",
       "      <th>3</th>\n",
       "      <td>3</td>\n",
       "      <td>Sherlock</td>\n",
       "      <td>2010</td>\n",
       "      <td>16+</td>\n",
       "      <td>9.1</td>\n",
       "      <td>78%</td>\n",
       "      <td>1</td>\n",
       "      <td>0</td>\n",
       "      <td>0</td>\n",
       "      <td>0</td>\n",
       "      <td>1</td>\n",
       "    </tr>\n",
       "    <tr>\n",
       "      <th>4</th>\n",
       "      <td>4</td>\n",
       "      <td>Better Call Saul</td>\n",
       "      <td>2015</td>\n",
       "      <td>18+</td>\n",
       "      <td>8.7</td>\n",
       "      <td>97%</td>\n",
       "      <td>1</td>\n",
       "      <td>0</td>\n",
       "      <td>0</td>\n",
       "      <td>0</td>\n",
       "      <td>1</td>\n",
       "    </tr>\n",
       "  </tbody>\n",
       "</table>\n",
       "</div>"
      ],
      "text/plain": [
       "   Unnamed: 0             Title  Year  Age  IMDb Rotten Tomatoes  Netflix  \\\n",
       "0           0      Breaking Bad  2008  18+   9.5             96%        1   \n",
       "1           1   Stranger Things  2016  16+   8.8             93%        1   \n",
       "2           2       Money Heist  2017  18+   8.4             91%        1   \n",
       "3           3          Sherlock  2010  16+   9.1             78%        1   \n",
       "4           4  Better Call Saul  2015  18+   8.7             97%        1   \n",
       "\n",
       "   Hulu  Prime Video  Disney+  type  \n",
       "0     0            0        0     1  \n",
       "1     0            0        0     1  \n",
       "2     0            0        0     1  \n",
       "3     0            0        0     1  \n",
       "4     0            0        0     1  "
      ]
     },
     "execution_count": 18,
     "metadata": {},
     "output_type": "execute_result"
    }
   ],
   "source": [
    "#Import data set acquired from Kaggle with information about TV Shows on streaming platforms\n",
    "tvshows = pd.read_csv('data/tv_shows.csv')\n",
    "tvshows.head()"
   ]
  },
  {
   "cell_type": "code",
   "execution_count": 19,
   "metadata": {},
   "outputs": [],
   "source": [
    "tvshows = tvshows.dropna(subset = ['Rotten Tomatoes'])"
   ]
  },
  {
   "cell_type": "code",
   "execution_count": 20,
   "metadata": {},
   "outputs": [
    {
     "data": {
      "text/plain": [
       "0    557\n",
       "1    454\n",
       "Name: Netflix, dtype: int64"
      ]
     },
     "execution_count": 20,
     "metadata": {},
     "output_type": "execute_result"
    }
   ],
   "source": [
    "#See how many TV Shows in data are available on Netflix\n",
    "tvshows['Netflix'].value_counts()"
   ]
  },
  {
   "cell_type": "code",
   "execution_count": 21,
   "metadata": {},
   "outputs": [
    {
     "data": {
      "text/plain": [
       "0    636\n",
       "1    375\n",
       "Name: Hulu, dtype: int64"
      ]
     },
     "execution_count": 21,
     "metadata": {},
     "output_type": "execute_result"
    }
   ],
   "source": [
    "#See how many TV Shows in data are available on Hulu\n",
    "tvshows['Hulu'].value_counts()"
   ]
  },
  {
   "cell_type": "code",
   "execution_count": 22,
   "metadata": {},
   "outputs": [
    {
     "data": {
      "text/plain": [
       "0    783\n",
       "1    228\n",
       "Name: Prime Video, dtype: int64"
      ]
     },
     "execution_count": 22,
     "metadata": {},
     "output_type": "execute_result"
    }
   ],
   "source": [
    "#See how many TV Shows in data are available on Prime Video\n",
    "tvshows['Prime Video'].value_counts()"
   ]
  },
  {
   "cell_type": "code",
   "execution_count": 23,
   "metadata": {},
   "outputs": [
    {
     "data": {
      "text/plain": [
       "0    987\n",
       "1     24\n",
       "Name: Disney+, dtype: int64"
      ]
     },
     "execution_count": 23,
     "metadata": {},
     "output_type": "execute_result"
    }
   ],
   "source": [
    "#See how many TV Shows in data are available on Disney+\n",
    "tvshows['Disney+'].value_counts()"
   ]
  },
  {
   "cell_type": "code",
   "execution_count": 24,
   "metadata": {
    "scrolled": true
   },
   "outputs": [
    {
     "data": {
      "text/html": [
       "<div>\n",
       "<style scoped>\n",
       "    .dataframe tbody tr th:only-of-type {\n",
       "        vertical-align: middle;\n",
       "    }\n",
       "\n",
       "    .dataframe tbody tr th {\n",
       "        vertical-align: top;\n",
       "    }\n",
       "\n",
       "    .dataframe thead th {\n",
       "        text-align: right;\n",
       "    }\n",
       "</style>\n",
       "<table border=\"1\" class=\"dataframe\">\n",
       "  <thead>\n",
       "    <tr style=\"text-align: right;\">\n",
       "      <th></th>\n",
       "      <th>Year</th>\n",
       "      <th>Tickets Sold</th>\n",
       "    </tr>\n",
       "  </thead>\n",
       "  <tbody>\n",
       "    <tr>\n",
       "      <th>26</th>\n",
       "      <td>1996</td>\n",
       "      <td>1305216770</td>\n",
       "    </tr>\n",
       "    <tr>\n",
       "      <th>25</th>\n",
       "      <td>1997</td>\n",
       "      <td>1385218935</td>\n",
       "    </tr>\n",
       "    <tr>\n",
       "      <th>24</th>\n",
       "      <td>1998</td>\n",
       "      <td>1443827003</td>\n",
       "    </tr>\n",
       "    <tr>\n",
       "      <th>23</th>\n",
       "      <td>1999</td>\n",
       "      <td>1444664086</td>\n",
       "    </tr>\n",
       "    <tr>\n",
       "      <th>22</th>\n",
       "      <td>2000</td>\n",
       "      <td>1397460079</td>\n",
       "    </tr>\n",
       "    <tr>\n",
       "      <th>21</th>\n",
       "      <td>2001</td>\n",
       "      <td>1465874205</td>\n",
       "    </tr>\n",
       "    <tr>\n",
       "      <th>20</th>\n",
       "      <td>2002</td>\n",
       "      <td>1575756527</td>\n",
       "    </tr>\n",
       "    <tr>\n",
       "      <th>19</th>\n",
       "      <td>2003</td>\n",
       "      <td>1524585021</td>\n",
       "    </tr>\n",
       "    <tr>\n",
       "      <th>18</th>\n",
       "      <td>2004</td>\n",
       "      <td>1495651298</td>\n",
       "    </tr>\n",
       "    <tr>\n",
       "      <th>17</th>\n",
       "      <td>2005</td>\n",
       "      <td>1372980280</td>\n",
       "    </tr>\n",
       "    <tr>\n",
       "      <th>16</th>\n",
       "      <td>2006</td>\n",
       "      <td>1398738283</td>\n",
       "    </tr>\n",
       "    <tr>\n",
       "      <th>15</th>\n",
       "      <td>2007</td>\n",
       "      <td>1420036680</td>\n",
       "    </tr>\n",
       "    <tr>\n",
       "      <th>14</th>\n",
       "      <td>2008</td>\n",
       "      <td>1358041408</td>\n",
       "    </tr>\n",
       "    <tr>\n",
       "      <th>13</th>\n",
       "      <td>2009</td>\n",
       "      <td>1418567388</td>\n",
       "    </tr>\n",
       "    <tr>\n",
       "      <th>12</th>\n",
       "      <td>2010</td>\n",
       "      <td>1328549023</td>\n",
       "    </tr>\n",
       "    <tr>\n",
       "      <th>11</th>\n",
       "      <td>2011</td>\n",
       "      <td>1282915168</td>\n",
       "    </tr>\n",
       "    <tr>\n",
       "      <th>10</th>\n",
       "      <td>2012</td>\n",
       "      <td>1380916164</td>\n",
       "    </tr>\n",
       "    <tr>\n",
       "      <th>9</th>\n",
       "      <td>2013</td>\n",
       "      <td>1339168926</td>\n",
       "    </tr>\n",
       "    <tr>\n",
       "      <th>8</th>\n",
       "      <td>2014</td>\n",
       "      <td>1257400618</td>\n",
       "    </tr>\n",
       "    <tr>\n",
       "      <th>7</th>\n",
       "      <td>2015</td>\n",
       "      <td>1323267005</td>\n",
       "    </tr>\n",
       "    <tr>\n",
       "      <th>6</th>\n",
       "      <td>2016</td>\n",
       "      <td>1301658904</td>\n",
       "    </tr>\n",
       "    <tr>\n",
       "      <th>5</th>\n",
       "      <td>2017</td>\n",
       "      <td>1225639761</td>\n",
       "    </tr>\n",
       "    <tr>\n",
       "      <th>4</th>\n",
       "      <td>2018</td>\n",
       "      <td>1311323188</td>\n",
       "    </tr>\n",
       "    <tr>\n",
       "      <th>3</th>\n",
       "      <td>2019</td>\n",
       "      <td>1228763381</td>\n",
       "    </tr>\n",
       "    <tr>\n",
       "      <th>2</th>\n",
       "      <td>2020</td>\n",
       "      <td>223880995</td>\n",
       "    </tr>\n",
       "    <tr>\n",
       "      <th>1</th>\n",
       "      <td>2021</td>\n",
       "      <td>182519895</td>\n",
       "    </tr>\n",
       "  </tbody>\n",
       "</table>\n",
       "</div>"
      ],
      "text/plain": [
       "    Year  Tickets Sold\n",
       "26  1996    1305216770\n",
       "25  1997    1385218935\n",
       "24  1998    1443827003\n",
       "23  1999    1444664086\n",
       "22  2000    1397460079\n",
       "21  2001    1465874205\n",
       "20  2002    1575756527\n",
       "19  2003    1524585021\n",
       "18  2004    1495651298\n",
       "17  2005    1372980280\n",
       "16  2006    1398738283\n",
       "15  2007    1420036680\n",
       "14  2008    1358041408\n",
       "13  2009    1418567388\n",
       "12  2010    1328549023\n",
       "11  2011    1282915168\n",
       "10  2012    1380916164\n",
       "9   2013    1339168926\n",
       "8   2014    1257400618\n",
       "7   2015    1323267005\n",
       "6   2016    1301658904\n",
       "5   2017    1225639761\n",
       "4   2018    1311323188\n",
       "3   2019    1228763381\n",
       "2   2020     223880995\n",
       "1   2021     182519895"
      ]
     },
     "execution_count": 24,
     "metadata": {},
     "output_type": "execute_result"
    }
   ],
   "source": [
    "#Import and clean up movie going data found from Kaggle \n",
    "df2 = pd.read_csv('data/data_mallory/project_data.csv')\n",
    "#Drop all null values\n",
    "df2 = df2.dropna()\n",
    "#Drop columns to focus on Year and Tickets Sold\n",
    "df2 = df2.drop(['Total Box Office', 'Total Inflation', 'Average',], axis = 1)\n",
    "#Replace commas in tickets sold numbers to be able to change to integer \n",
    "df2['Tickets Sold'] = df2['Tickets Sold'].str.replace(',','').astype(int)\n",
    "#Change year column type also to integer for visualization purposes\n",
    "df2['Year'] = df2['Year'].astype(int)\n",
    "#Put the data in chronological order by year\n",
    "df2 = df2.sort_values(['Year'], ascending=True)\n",
    "#Show the cleaned data\n",
    "df2"
   ]
  },
  {
   "cell_type": "code",
   "execution_count": 25,
   "metadata": {},
   "outputs": [
    {
     "data": {
      "text/html": [
       "<div>\n",
       "<style scoped>\n",
       "    .dataframe tbody tr th:only-of-type {\n",
       "        vertical-align: middle;\n",
       "    }\n",
       "\n",
       "    .dataframe tbody tr th {\n",
       "        vertical-align: top;\n",
       "    }\n",
       "\n",
       "    .dataframe thead th {\n",
       "        text-align: right;\n",
       "    }\n",
       "</style>\n",
       "<table border=\"1\" class=\"dataframe\">\n",
       "  <thead>\n",
       "    <tr style=\"text-align: right;\">\n",
       "      <th></th>\n",
       "      <th>Year</th>\n",
       "      <th>Subscription Revenue in Billions</th>\n",
       "    </tr>\n",
       "  </thead>\n",
       "  <tbody>\n",
       "    <tr>\n",
       "      <th>10</th>\n",
       "      <td>2011</td>\n",
       "      <td>2.4</td>\n",
       "    </tr>\n",
       "    <tr>\n",
       "      <th>9</th>\n",
       "      <td>2012</td>\n",
       "      <td>2.79</td>\n",
       "    </tr>\n",
       "    <tr>\n",
       "      <th>8</th>\n",
       "      <td>2013</td>\n",
       "      <td>4.6</td>\n",
       "    </tr>\n",
       "    <tr>\n",
       "      <th>7</th>\n",
       "      <td>2014</td>\n",
       "      <td>5.53</td>\n",
       "    </tr>\n",
       "    <tr>\n",
       "      <th>6</th>\n",
       "      <td>2015</td>\n",
       "      <td>6.41</td>\n",
       "    </tr>\n",
       "    <tr>\n",
       "      <th>5</th>\n",
       "      <td>2016</td>\n",
       "      <td>7.36</td>\n",
       "    </tr>\n",
       "    <tr>\n",
       "      <th>4</th>\n",
       "      <td>2017</td>\n",
       "      <td>8.17</td>\n",
       "    </tr>\n",
       "    <tr>\n",
       "      <th>3</th>\n",
       "      <td>2018</td>\n",
       "      <td>8.95</td>\n",
       "    </tr>\n",
       "    <tr>\n",
       "      <th>2</th>\n",
       "      <td>2019</td>\n",
       "      <td>9.74</td>\n",
       "    </tr>\n",
       "    <tr>\n",
       "      <th>1</th>\n",
       "      <td>2020</td>\n",
       "      <td>10.36</td>\n",
       "    </tr>\n",
       "  </tbody>\n",
       "</table>\n",
       "</div>"
      ],
      "text/plain": [
       "    Year Subscription Revenue in Billions\n",
       "10  2011                              2.4\n",
       "9   2012                             2.79\n",
       "8   2013                              4.6\n",
       "7   2014                             5.53\n",
       "6   2015                             6.41\n",
       "5   2016                             7.36\n",
       "4   2017                             8.17\n",
       "3   2018                             8.95\n",
       "2   2019                             9.74\n",
       "1   2020                            10.36"
      ]
     },
     "execution_count": 25,
     "metadata": {},
     "output_type": "execute_result"
    }
   ],
   "source": [
    "#Import aggregated streaming platform revenue data from external source\n",
    "df3 = pd.read_csv('data/data_mallory/streaming_revenue.csv')\n",
    "#Drop columns to focus on Year and Suscription Revenue in Billions\n",
    "df3 = df3.drop(['Unnamed: 0', 'Unnamed: 3', 'Unnamed: 4', 'Unnamed: 5', 'Unnamed: 6'], axis=1)\n",
    "#Drop null values\n",
    "df3 = df3.dropna()\n",
    "#Rename columns\n",
    "df3_renamed = df3.rename(columns={\"Unnamed: 1\": \"Year\", \"Unnamed: 2\": \"Subscription Revenue in Billions\"})\n",
    "df3_renamed = df3_renamed.drop([0])\n",
    "df3_renamed = df3_renamed.sort_values(['Year'], ascending=True)\n",
    "df3_renamed"
   ]
  },
  {
   "cell_type": "code",
   "execution_count": 26,
   "metadata": {},
   "outputs": [
    {
     "data": {
      "text/html": [
       "<div>\n",
       "<style scoped>\n",
       "    .dataframe tbody tr th:only-of-type {\n",
       "        vertical-align: middle;\n",
       "    }\n",
       "\n",
       "    .dataframe tbody tr th {\n",
       "        vertical-align: top;\n",
       "    }\n",
       "\n",
       "    .dataframe thead th {\n",
       "        text-align: right;\n",
       "    }\n",
       "</style>\n",
       "<table border=\"1\" class=\"dataframe\">\n",
       "  <thead>\n",
       "    <tr style=\"text-align: right;\">\n",
       "      <th></th>\n",
       "      <th>Year</th>\n",
       "      <th>Number of Netflix Subscribers</th>\n",
       "      <th>Number of HBO Subscribers</th>\n",
       "      <th>Number of Hulu Subscribers</th>\n",
       "    </tr>\n",
       "  </thead>\n",
       "  <tbody>\n",
       "    <tr>\n",
       "      <th>1</th>\n",
       "      <td>2013.0</td>\n",
       "      <td>31.71</td>\n",
       "      <td>43.0</td>\n",
       "      <td>4.0</td>\n",
       "    </tr>\n",
       "    <tr>\n",
       "      <th>2</th>\n",
       "      <td>2014.0</td>\n",
       "      <td>37.70</td>\n",
       "      <td>46.0</td>\n",
       "      <td>6.0</td>\n",
       "    </tr>\n",
       "    <tr>\n",
       "      <th>3</th>\n",
       "      <td>2015.0</td>\n",
       "      <td>43.40</td>\n",
       "      <td>49.0</td>\n",
       "      <td>10.0</td>\n",
       "    </tr>\n",
       "    <tr>\n",
       "      <th>4</th>\n",
       "      <td>2016.0</td>\n",
       "      <td>47.91</td>\n",
       "      <td>49.0</td>\n",
       "      <td>12.0</td>\n",
       "    </tr>\n",
       "    <tr>\n",
       "      <th>5</th>\n",
       "      <td>2017.0</td>\n",
       "      <td>52.81</td>\n",
       "      <td>54.0</td>\n",
       "      <td>17.0</td>\n",
       "    </tr>\n",
       "    <tr>\n",
       "      <th>6</th>\n",
       "      <td>2018.0</td>\n",
       "      <td>58.49</td>\n",
       "      <td>50.0</td>\n",
       "      <td>25.0</td>\n",
       "    </tr>\n",
       "    <tr>\n",
       "      <th>7</th>\n",
       "      <td>2019.0</td>\n",
       "      <td>61.04</td>\n",
       "      <td>43.0</td>\n",
       "      <td>28.5</td>\n",
       "    </tr>\n",
       "    <tr>\n",
       "      <th>8</th>\n",
       "      <td>2020.0</td>\n",
       "      <td>73.94</td>\n",
       "      <td>41.0</td>\n",
       "      <td>36.6</td>\n",
       "    </tr>\n",
       "    <tr>\n",
       "      <th>9</th>\n",
       "      <td>2021.0</td>\n",
       "      <td>74.38</td>\n",
       "      <td>44.2</td>\n",
       "      <td>41.6</td>\n",
       "    </tr>\n",
       "  </tbody>\n",
       "</table>\n",
       "</div>"
      ],
      "text/plain": [
       "     Year  Number of Netflix Subscribers  Number of HBO Subscribers  \\\n",
       "1  2013.0                          31.71                       43.0   \n",
       "2  2014.0                          37.70                       46.0   \n",
       "3  2015.0                          43.40                       49.0   \n",
       "4  2016.0                          47.91                       49.0   \n",
       "5  2017.0                          52.81                       54.0   \n",
       "6  2018.0                          58.49                       50.0   \n",
       "7  2019.0                          61.04                       43.0   \n",
       "8  2020.0                          73.94                       41.0   \n",
       "9  2021.0                          74.38                       44.2   \n",
       "\n",
       "   Number of Hulu Subscribers  \n",
       "1                         4.0  \n",
       "2                         6.0  \n",
       "3                        10.0  \n",
       "4                        12.0  \n",
       "5                        17.0  \n",
       "6                        25.0  \n",
       "7                        28.5  \n",
       "8                        36.6  \n",
       "9                        41.6  "
      ]
     },
     "execution_count": 26,
     "metadata": {},
     "output_type": "execute_result"
    }
   ],
   "source": [
    "#Import data on number of subscribers\n",
    "df4 = pd.read_csv('data/data_mallory/streaming_subscription_data.csv')\n",
    "#Clean up table\n",
    "df4 = df4.drop(['Table 1'], axis=1)\n",
    "df4 = df4.reset_index()\n",
    "df4 = df4.drop(['level_0'], axis=1)\n",
    "df4.columns = list(df4.iloc[0])\n",
    "df4 = df4.drop([0])\n",
    "#Drop null values \n",
    "df4 = df4.dropna()\n",
    "df4 = df4.astype(float)\n",
    "df4"
   ]
  },
  {
   "cell_type": "markdown",
   "metadata": {},
   "source": [
    "## Data Modeling\n",
    "We sought to create 5 visualizations which you will see below. After we cleaned our data, we utlizied MatPlotLib for our figures, and adjusted a few aspects within each model for ease of viewing. We used a combination of bar graphs and line graphs to show difference across different items as well as changes over time. \n"
   ]
  },
  {
   "cell_type": "markdown",
   "metadata": {},
   "source": [
    "### Figure 1 \n",
    "This figure shows movie tickets sold annually in the United States since 1996, showing a decline in the sale of movie tickets since the past years."
   ]
  },
  {
   "cell_type": "code",
   "execution_count": 27,
   "metadata": {
    "scrolled": true
   },
   "outputs": [
    {
     "data": {
      "text/plain": [
       "Text(0, 0.5, 'Tickets Sold (in millions)')"
      ]
     },
     "execution_count": 27,
     "metadata": {},
     "output_type": "execute_result"
    },
    {
     "data": {
      "image/png": "[encoded data removed]",
      "text/plain": [
       "<Figure size 1800x1080 with 1 Axes>"
      ]
     },
     "metadata": {
      "needs_background": "light"
     },
     "output_type": "display_data"
    }
   ],
   "source": [
    "#Create a line graph showing the decrease in Movie ticket sales since 1996\n",
    "\n",
    "x = df2['Year'].astype(str)\n",
    "y = df2['Tickets Sold'].values\n",
    "\n",
    "plot_two_fig, plot_two_ax = plt.subplots(figsize=(25,15))\n",
    "plot_two_ax.plot(x, y, linewidth=6, color = \"tomato\")\n",
    "\n",
    "plot_two_ax.tick_params(axis='x', labelsize=20, rotation = 75)\n",
    "plot_two_ax.tick_params(axis='y', labelsize=20)\n",
    "plot_two_ax.set_title('Numbers of Tickets Sold per Year', fontsize=40)\n",
    "plot_two_ax.set_xlabel('Year', fontsize=30)\n",
    "plot_two_ax.set_ylabel('Tickets Sold (in millions)', fontsize=30)"
   ]
  },
  {
   "cell_type": "markdown",
   "metadata": {},
   "source": [
    "### Figure 2\n",
    "This figure shows the average gross box office profit for movies in our data that our now found on streaming platforms compared to the average gross box office profit for movies in our data not currently found on streaming platforms.\n"
   ]
  },
  {
   "cell_type": "code",
   "execution_count": 28,
   "metadata": {},
   "outputs": [
    {
     "data": {
      "text/plain": [
       "<BarContainer object of 2 artists>"
      ]
     },
     "execution_count": 28,
     "metadata": {},
     "output_type": "execute_result"
    },
    {
     "data": {
      "image/png": "[encoded data removed]",
      "text/plain": [
       "<Figure size 1080x576 with 1 Axes>"
      ]
     },
     "metadata": {
      "needs_background": "light"
     },
     "output_type": "display_data"
    }
   ],
   "source": [
    "eg_value = [148.1062, 105.2673]\n",
    "eg_x = ['On Streaming Platforms', 'Not On Streaming Platforms']\n",
    "#Create a bar chart showing the average box office profit for movies found on streaming platforms\n",
    "#and movies not found on streaming platforms in our data\n",
    "x = eg_x\n",
    "y = eg_value\n",
    "plot_one_fig, plot_one_ax = plt.subplots(figsize = (15, 8))\n",
    "\n",
    "plot_one_ax.bar(x,y)\n",
    "plot_one_ax.set_title('Avg Gross Box Office Profit of Movies Now On Streaming Platforms VS Not On Streaming Platforms', fontsize=20)\n",
    "plot_one_ax.set_xlabel('Streaming', fontsize=15)\n",
    "plot_one_ax.set_ylabel('Gross Profit (In Millions)', fontsize=15)\n",
    "x_pos = np.arange(len(x))\n",
    "plt.bar(x_pos, y, color=['orchid', 'powderblue'])"
   ]
  },
  {
   "cell_type": "markdown",
   "metadata": {},
   "source": [
    "### Figure 3\n",
    "This figure shows total streaming platform subscription revenue from 2011 to 2020."
   ]
  },
  {
   "cell_type": "code",
   "execution_count": 29,
   "metadata": {},
   "outputs": [
    {
     "data": {
      "image/png": "[encoded data removed]",
      "text/plain": [
       "<Figure size 1080x432 with 1 Axes>"
      ]
     },
     "metadata": {
      "needs_background": "light"
     },
     "output_type": "display_data"
    }
   ],
   "source": [
    "#Create line graph to show increase in subscription revenue since 2011\n",
    "import matplotlib.pyplot as plt\n",
    "import numpy as np\n",
    "  \n",
    "fig, ax = plt.subplots(figsize=(15,6))  \n",
    "x = df3_renamed['Year'] \n",
    "y = df3_renamed['Subscription Revenue in Billions']\n",
    "  \n",
    "plt.plot(x, y, linewidth=6, color = \"violet\")\n",
    "plt.xlabel(\"Year\", fontsize=15)\n",
    "plt.ylabel(\"Subscription Revenue (in billions)\", fontsize=15)\n",
    "plt.title(\"Increase in Subscription Revenue Per Year\", fontsize=25)\n",
    "plt.show()  "
   ]
  },
  {
   "cell_type": "markdown",
   "metadata": {},
   "source": [
    "### Figure 4 \n",
    "It is important to note this data does not look at all four streaming platforms we have in our previous data and includes an additional platform also, HBO. We decided to continue with this data because we could not find clear subscription data for Prime Video and Dinsey+. We believe this is for two reasons, Prime Video comes with an Amazon Prime subscription and most people do not subscribe to Amazon Prime solely for the streaming acccessibility. Additionaly, many titles on Prime Video are not even included with the subscription. Disney+ is less than 2 years old and does not have enough data to show. We felt comfortable showing HBO in this visualization because it represents a different type of popular subscription service that has now turned into a streaming platform."
   ]
  },
  {
   "cell_type": "code",
   "execution_count": 30,
   "metadata": {
    "scrolled": true
   },
   "outputs": [
    {
     "data": {
      "image/png": "[encoded data removed]",
      "text/plain": [
       "<Figure size 1080x432 with 1 Axes>"
      ]
     },
     "metadata": {
      "needs_background": "light"
     },
     "output_type": "display_data"
    }
   ],
   "source": [
    "#Create a line graph showing the growth in subscribers across 3 different platforms: Netflix, HBO, and Hulu\n",
    "fig, ax = plt.subplots(figsize=(15,6))\n",
    "x1 = df4['Year']\n",
    "y1 = df4['Number of Netflix Subscribers']\n",
    "plt.plot(x1, y1, label = \"Netflix\", color = 'red', linewidth=3)\n",
    "x2 = df4['Year']\n",
    "y2 = df4['Number of HBO Subscribers']\n",
    "plt.plot(x2, y2, label = \"HBO\", color = 'black', linewidth=3)\n",
    "x3 = df4['Year']\n",
    "y3 = df4['Number of Hulu Subscribers']\n",
    "plt.plot(x3, y3, label = \"Hulu\", color = 'limegreen', linewidth=3) \n",
    "\n",
    "\n",
    "plt.legend()\n",
    "\n",
    "plt.xlabel(\"Year\", fontsize=15)\n",
    "plt.yticks(np.arange(0, 80, 10)) \n",
    "plt.ylabel(\"Number of Subscribers(in millions)\", fontsize=15)\n",
    "plt.title(\"Numbers of Subscribers for Differents Platforms\", fontsize=25)\n",
    "  \n",
    "\n",
    "plt.show() "
   ]
  },
  {
   "cell_type": "markdown",
   "metadata": {},
   "source": [
    "### Figure 5\n",
    "This figure shows the number of movies and tv shows from are data available across Netflix, Hulu, Prime Video, and Dinsey+. "
   ]
  },
  {
   "cell_type": "code",
   "execution_count": 31,
   "metadata": {},
   "outputs": [
    {
     "data": {
      "image/png": "[encoded data removed]",
      "text/plain": [
       "<Figure size 1080x576 with 1 Axes>"
      ]
     },
     "metadata": {
      "needs_background": "light"
     },
     "output_type": "display_data"
    }
   ],
   "source": [
    "#Manually create variable for visualitation - numbers of movies and tv shows found across the 4 platforms\n",
    "#for the y axis and platform names for the x axis\n",
    "numofmovie = [303, 122, 299, 134]\n",
    "tvshowcount = [228, 454, 375, 24]\n",
    "nameofplatform = ['Netflix', 'Hulu', 'Prime Video', 'Disney+']\n",
    "\n",
    "#Create a bar graph showing variety of how many films and TV shows in our data appear on Netflix, \n",
    "#Hulu, Prime Video, and Disney+\n",
    "labels = nameofplatform\n",
    "movies = numofmovie\n",
    "tvshows = tvshowcount\n",
    "\n",
    "x = np.arange(len(labels))  # the label locations\n",
    "width = 0.35  # the width of the bars\n",
    "\n",
    "fig, ax = plt.subplots(figsize = (15, 8))\n",
    "ax.bar(x - width/2, movies, width, label='Movies', color= 'midnightblue')\n",
    "ax.bar(x + width/2, tvshows, width, label='TV Shows', color= 'cornflowerblue')\n",
    "\n",
    "\n",
    "# Add some text for labels, title and custom x-axis tick labels, etc.\n",
    "ax.set_ylabel('Number of Movies and TV Shows', fontsize=15)\n",
    "ax.set_title('Number of Movies and TV Shows Available Across Different Platforms',fontsize=25)\n",
    "ax.set_xticks(x)\n",
    "ax.set_xticklabels(labels, fontsize=15)\n",
    "ax.legend()\n",
    "\n",
    "\n",
    "plt.show()"
   ]
  },
  {
   "cell_type": "markdown",
   "metadata": {},
   "source": [
    "## Evaluation\n",
    "The clearest indicators in our data for Microsoft to pursue a streaming platform instead of a movie studio are movie ticket sale trends and streaming platform subscription trends. There are many other more in depth factors we could consider in making this analysis, but considering our time constraints and access to data we chose to go with this high level approach. While our results do represent a large snapshot of the industries, I believe that if we took a deeper, more detailed look we would indeed still come up with the same overall reccomendations. \n",
    "\n",
    "However, with the measures we do have, we feel confident in our reccomendations. \n",
    " 1. Movie ticket sales have gone down since 2011\n",
    " 2. Streaming platforms have increased since 2013.\n",
    " 3. Streaming platform revenue has also steadily increased.\n",
    " 4. Movies that have success in the box office end up on streaming services.\n",
    " 5. Successful streaming platforms offer a variety of TV Shows and movies.|\n"
   ]
  },
  {
   "cell_type": "markdown",
   "metadata": {},
   "source": [
    "## Conclusions\n",
    "If able to take this further a few things we could look at would be the necessary components (people, knowledge, skill sets, etc.) needed to make a successful movie studio and a successful streaming platform compared to the immense supply of talent microsoft already has in house. We could look deeper into pre-existing relationships Microsoft has for easy partnerships for the platform and/or for content to be hosted on the platform. These would for sure be prudent next steps for Microsoft to take in pursuing building a streaming platform. Our analysis focuses on the domestic sector but would benefit from a global perspective considering Microsofts global reach. We would take all of these factors into consideration in order to improve this project in the future."
   ]
  }
 ],
 "metadata": {
  "kernelspec": {
   "display_name": "Python 3",
   "language": "python",
   "name": "python3"
  },
  "language_info": {
   "codemirror_mode": {
    "name": "ipython",
    "version": 3
   },
   "file_extension": ".py",
   "mimetype": "text/x-python",
   "name": "python",
   "nbconvert_exporter": "python",
   "pygments_lexer": "ipython3",
   "version": "3.8.5"
  },
  "toc": {
   "base_numbering": 1,
   "nav_menu": {},
   "number_sections": true,
   "sideBar": true,
   "skip_h1_title": false,
   "title_cell": "Table of Contents",
   "title_sidebar": "Contents",
   "toc_cell": false,
   "toc_position": {},
   "toc_section_display": true,
   "toc_window_display": false
  }
 },
 "nbformat": 4,
 "nbformat_minor": 4
}
