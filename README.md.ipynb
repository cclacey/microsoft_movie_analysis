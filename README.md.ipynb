{
 "cells": [
  {
   "cell_type": "markdown",
   "metadata": {},
   "source": [
    "# Microsoft Film Industry and Streaming Platform Analysis"
   ]
  },
  {
   "cell_type": "markdown",
   "metadata": {},
   "source": [
    "**AUTHORS:**  \n",
    "Mallory Wilson, CeCe Lacey, Qiwen Ou"
   ]
  },
  {
   "cell_type": "markdown",
   "metadata": {},
   "source": [
    "## Overview"
   ]
  },
  {
   "cell_type": "markdown",
   "metadata": {},
   "source": [
    "This project will analyze what way Microsoft should join the movie industry. Microsoft sees that its competitors are creating their own film content which lead Microsoft to want to create a movie studio. Throughout this project we found data on the number of movie box tickets being sold yearly, the number of subscriptions to different streaming services yearly, the revenue that streaming services are making yearly, what movies or tv shows are on streaming services, and what movies made the most profit and if they were on streaming services or only in theatre. We have decided that Microsoft should make their own streaming service and put their movies on the streaming service.  This is because the data tells us that not as many people are going to the movies and buying tickets, but more people are subscribing to streaming services. We think Microsoft would make reap more benefits if they created their own streaming service."
   ]
  },
  {
   "cell_type": "markdown",
   "metadata": {},
   "source": [
    "## Business Problem"
   ]
  },
  {
   "cell_type": "markdown",
   "metadata": {},
   "source": [
    "Microsoft has noticed that its competitors have begun creating their own film content. So, Microsoft has decided to create a new movie studio, but they are unfamiliar with the film sector. However, the appearance of the streaming industry has altered the appeal for movie theatres. With this knowledge, should Microsoft invest in creating a movie studio or a streaming service? We want to know if people are still going to the movies or if streaming services are becoming more popular and making more money overall."
   ]
  },
  {
   "cell_type": "markdown",
   "metadata": {},
   "source": [
    "## Data"
   ]
  },
  {
   "cell_type": "markdown",
   "metadata": {},
   "source": [
    "For this project, we used multiple datasets in order to make our case. We found data from The Numbers which gave us information on box office ticket sales over the past years. We found a lot of data from Statista giving us information on the growth of subscriptions to streaming platforms the past few years and a dataset telling us how much money streaming services have been making by year and which movies or tv shows are on which streaming platforms. Finally, we used the create_movies_db to get information on popular movies and compare these movies to ones that are found on different streaming services. All of this data relates to the business question because it helps us be able to tell whether streaming services are becoming more popular and if ticket sales to movies shown in theatres are decreasing. "
   ]
  },
  {
   "cell_type": "markdown",
   "metadata": {},
   "source": [
    "## Methods"
   ]
  },
  {
   "cell_type": "markdown",
   "metadata": {},
   "source": [
    "This project uses descriptive analysis, looking at movie and streaming service trends over time. We went on Kaggle and Statista to find information on the streaming service industry and movie theratre trends. We then went through the data and cleaned and organized it and then decided on how we wanted to display the information. This approach was taken because in order for us to look at multiple datasets and come up with a decision for Microsoft, we needed to be able to see multiple trends over multiple years. "
   ]
  },
  {
   "cell_type": "markdown",
   "metadata": {},
   "source": [
    "##  Results"
   ]
  },
  {
   "cell_type": "markdown",
   "metadata": {},
   "source": [
    "The number of tickets sold hit its peak in 2002. After 2002, there is a slight decline in the number of tickets sold. Starting in 2018, there is a rapid decline and we can see that COVID impacted the number of ticket sales greatly, due to the huge decline in 2020. With as large of an impact that COVID had, it is unlikely that ticket sales will ever get as high as they used to be. "
   ]
  },
  {
   "cell_type": "markdown",
   "metadata": {},
   "source": [
    "![example](images/tickets_sold.png)"
   ]
  },
  {
   "cell_type": "markdown",
   "metadata": {},
   "source": [
    "The number of people subscribing to streaming services have been and still are increasing, including Hulu, HBO, and Netflix."
   ]
  },
  {
   "cell_type": "markdown",
   "metadata": {},
   "source": [
    "![example](images/platform_subscribers.png)"
   ]
  },
  {
   "cell_type": "markdown",
   "metadata": {},
   "source": [
    "The revenue that streaming services are making from the increase in subscribers has been steadily increasing since 2011 and is still increasing."
   ]
  },
  {
   "cell_type": "markdown",
   "metadata": {},
   "source": [
    "![example](images/subscription_revenue.png)"
   ]
  },
  {
   "cell_type": "markdown",
   "metadata": {},
   "source": [
    "On average, movies that are found on streaming services make a higher gross profit than movies that are not on streaming platforms. "
   ]
  },
  {
   "cell_type": "markdown",
   "metadata": {},
   "source": [
    "![example](images/streaming_vs_not.png)"
   ]
  },
  {
   "cell_type": "markdown",
   "metadata": {},
   "source": [
    "![example](images/platform_movies.png)"
   ]
  },
  {
   "cell_type": "markdown",
   "metadata": {},
   "source": []
  },
  {
   "cell_type": "markdown",
   "metadata": {},
   "source": []
  },
  {
   "cell_type": "markdown",
   "metadata": {},
   "source": []
  },
  {
   "cell_type": "markdown",
   "metadata": {},
   "source": []
  },
  {
   "cell_type": "markdown",
   "metadata": {},
   "source": []
  },
  {
   "cell_type": "markdown",
   "metadata": {},
   "source": []
  },
  {
   "cell_type": "markdown",
   "metadata": {},
   "source": []
  },
  {
   "cell_type": "markdown",
   "metadata": {},
   "source": [
    "## Conclusions"
   ]
  },
  {
   "cell_type": "markdown",
   "metadata": {},
   "source": [
    "After analyzing all of this data, we have come up with three recommendations for Microsoft:\n",
    "1. Do not create a movie studio.\n",
    "2. Create a streaming platform.\n",
    "3. Have both movies and tv shows on the streaming platform to get the most subscribers.\n",
    "\n",
    "We make these recommendations because there has been a decline in the amount of people going to the movies but an increase in the number of streaming service subscriptions and revenue. We also found that these platforms are the most successful if they have both movies and tv shows. "
   ]
  },
  {
   "cell_type": "markdown",
   "metadata": {},
   "source": [
    "## For More Information"
   ]
  },
  {
   "cell_type": "markdown",
   "metadata": {},
   "source": [
    "Please review our full analysis in our Jupyter Notebook or our presentation.\n",
    "For any additional questions please contact Mallory Wilson at mallorye1103@gmail.com, CeCe Lacey at cecelacey@gmail.com, Qiwen Ou at qwin.ou0721@gmail.com."
   ]
  },
  {
   "cell_type": "markdown",
   "metadata": {},
   "source": [
    "## Repository Structure"
   ]
  },
  {
   "cell_type": "markdown",
   "metadata": {},
   "source": []
  },
  {
   "cell_type": "markdown",
   "metadata": {},
   "source": []
  }
 ],
 "metadata": {
  "kernelspec": {
   "display_name": "learn-env",
   "language": "python",
   "name": "learn-env"
  },
  "language_info": {
   "codemirror_mode": {
    "name": "ipython",
    "version": 3
   },
   "file_extension": ".py",
   "mimetype": "text/x-python",
   "name": "python",
   "nbconvert_exporter": "python",
   "pygments_lexer": "ipython3",
   "version": "3.8.5"
  },
  "toc": {
   "base_numbering": 1,
   "nav_menu": {},
   "number_sections": true,
   "sideBar": true,
   "skip_h1_title": false,
   "title_cell": "Table of Contents",
   "title_sidebar": "Contents",
   "toc_cell": false,
   "toc_position": {},
   "toc_section_display": true,
   "toc_window_display": false
  }
 },
 "nbformat": 4,
 "nbformat_minor": 4
}
