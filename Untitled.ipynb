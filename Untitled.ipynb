{
 "cells": [
  {
   "cell_type": "code",
   "execution_count": 1,
   "metadata": {},
   "outputs": [
    {
     "name": "stdout",
     "output_type": "stream",
     "text": [
      "Requirement already satisfied: jupyter_contrib_nbextensions in /Users/mallorywilson/opt/anaconda3/envs/learn-env/lib/python3.8/site-packages (0.5.1)\n",
      "Requirement already satisfied: jupyter-latex-envs>=1.3.8 in /Users/mallorywilson/opt/anaconda3/envs/learn-env/lib/python3.8/site-packages (from jupyter_contrib_nbextensions) (1.4.4)\n",
      "Requirement already satisfied: pyyaml in /Users/mallorywilson/opt/anaconda3/envs/learn-env/lib/python3.8/site-packages (from jupyter_contrib_nbextensions) (5.3.1)\n",
      "Requirement already satisfied: jupyter-highlight-selected-word>=0.1.1 in /Users/mallorywilson/opt/anaconda3/envs/learn-env/lib/python3.8/site-packages (from jupyter_contrib_nbextensions) (0.2.0)\n",
      "Requirement already satisfied: nbconvert>=4.2 in /Users/mallorywilson/opt/anaconda3/envs/learn-env/lib/python3.8/site-packages (from jupyter_contrib_nbextensions) (6.0.7)\n",
      "Requirement already satisfied: traitlets>=4.1 in /Users/mallorywilson/opt/anaconda3/envs/learn-env/lib/python3.8/site-packages (from jupyter_contrib_nbextensions) (5.0.4)\n",
      "Requirement already satisfied: notebook>=4.0 in /Users/mallorywilson/opt/anaconda3/envs/learn-env/lib/python3.8/site-packages (from jupyter_contrib_nbextensions) (6.1.4)\n",
      "Requirement already satisfied: ipython-genutils in /Users/mallorywilson/opt/anaconda3/envs/learn-env/lib/python3.8/site-packages (from jupyter_contrib_nbextensions) (0.2.0)\n",
      "Requirement already satisfied: jupyter-contrib-core>=0.3.3 in /Users/mallorywilson/opt/anaconda3/envs/learn-env/lib/python3.8/site-packages (from jupyter_contrib_nbextensions) (0.3.3)\n",
      "Requirement already satisfied: tornado in /Users/mallorywilson/opt/anaconda3/envs/learn-env/lib/python3.8/site-packages (from jupyter_contrib_nbextensions) (6.0.4)\n",
      "Requirement already satisfied: lxml in /Users/mallorywilson/opt/anaconda3/envs/learn-env/lib/python3.8/site-packages (from jupyter_contrib_nbextensions) (4.5.2)\n",
      "Requirement already satisfied: jupyter-nbextensions-configurator>=0.4.0 in /Users/mallorywilson/opt/anaconda3/envs/learn-env/lib/python3.8/site-packages (from jupyter_contrib_nbextensions) (0.4.1)\n",
      "Requirement already satisfied: jupyter-core in /Users/mallorywilson/opt/anaconda3/envs/learn-env/lib/python3.8/site-packages (from jupyter_contrib_nbextensions) (4.6.3)\n",
      "Requirement already satisfied: ipython in /Users/mallorywilson/opt/anaconda3/envs/learn-env/lib/python3.8/site-packages (from jupyter-latex-envs>=1.3.8->jupyter_contrib_nbextensions) (7.18.1)\n",
      "Requirement already satisfied: pandocfilters>=1.4.1 in /Users/mallorywilson/opt/anaconda3/envs/learn-env/lib/python3.8/site-packages (from nbconvert>=4.2->jupyter_contrib_nbextensions) (1.4.2)\n",
      "Requirement already satisfied: testpath in /Users/mallorywilson/opt/anaconda3/envs/learn-env/lib/python3.8/site-packages (from nbconvert>=4.2->jupyter_contrib_nbextensions) (0.4.4)\n",
      "Requirement already satisfied: pygments>=2.4.1 in /Users/mallorywilson/opt/anaconda3/envs/learn-env/lib/python3.8/site-packages (from nbconvert>=4.2->jupyter_contrib_nbextensions) (2.7.1)\n",
      "Requirement already satisfied: jupyterlab-pygments in /Users/mallorywilson/opt/anaconda3/envs/learn-env/lib/python3.8/site-packages (from nbconvert>=4.2->jupyter_contrib_nbextensions) (0.1.2)\n",
      "Requirement already satisfied: bleach in /Users/mallorywilson/opt/anaconda3/envs/learn-env/lib/python3.8/site-packages (from nbconvert>=4.2->jupyter_contrib_nbextensions) (3.2.1)\n",
      "Requirement already satisfied: nbclient<0.6.0,>=0.5.0 in /Users/mallorywilson/opt/anaconda3/envs/learn-env/lib/python3.8/site-packages (from nbconvert>=4.2->jupyter_contrib_nbextensions) (0.5.0)\n",
      "Requirement already satisfied: nbformat>=4.4 in /Users/mallorywilson/opt/anaconda3/envs/learn-env/lib/python3.8/site-packages (from nbconvert>=4.2->jupyter_contrib_nbextensions) (5.0.7)\n",
      "Requirement already satisfied: mistune<2,>=0.8.1 in /Users/mallorywilson/opt/anaconda3/envs/learn-env/lib/python3.8/site-packages (from nbconvert>=4.2->jupyter_contrib_nbextensions) (0.8.4)\n",
      "Requirement already satisfied: entrypoints>=0.2.2 in /Users/mallorywilson/opt/anaconda3/envs/learn-env/lib/python3.8/site-packages (from nbconvert>=4.2->jupyter_contrib_nbextensions) (0.3)\n",
      "Requirement already satisfied: defusedxml in /Users/mallorywilson/opt/anaconda3/envs/learn-env/lib/python3.8/site-packages (from nbconvert>=4.2->jupyter_contrib_nbextensions) (0.6.0)\n",
      "Requirement already satisfied: jinja2>=2.4 in /Users/mallorywilson/opt/anaconda3/envs/learn-env/lib/python3.8/site-packages (from nbconvert>=4.2->jupyter_contrib_nbextensions) (2.11.2)\n",
      "Requirement already satisfied: Send2Trash in /Users/mallorywilson/opt/anaconda3/envs/learn-env/lib/python3.8/site-packages (from notebook>=4.0->jupyter_contrib_nbextensions) (1.5.0)\n",
      "Requirement already satisfied: argon2-cffi in /Users/mallorywilson/opt/anaconda3/envs/learn-env/lib/python3.8/site-packages (from notebook>=4.0->jupyter_contrib_nbextensions) (20.1.0)\n",
      "Requirement already satisfied: jupyter-client>=5.3.4 in /Users/mallorywilson/opt/anaconda3/envs/learn-env/lib/python3.8/site-packages (from notebook>=4.0->jupyter_contrib_nbextensions) (6.1.7)\n",
      "Requirement already satisfied: prometheus-client in /Users/mallorywilson/opt/anaconda3/envs/learn-env/lib/python3.8/site-packages (from notebook>=4.0->jupyter_contrib_nbextensions) (0.8.0)\n",
      "Requirement already satisfied: ipykernel in /Users/mallorywilson/opt/anaconda3/envs/learn-env/lib/python3.8/site-packages (from notebook>=4.0->jupyter_contrib_nbextensions) (5.3.4)\n",
      "Requirement already satisfied: pyzmq>=17 in /Users/mallorywilson/opt/anaconda3/envs/learn-env/lib/python3.8/site-packages (from notebook>=4.0->jupyter_contrib_nbextensions) (19.0.2)\n",
      "Requirement already satisfied: terminado>=0.8.3 in /Users/mallorywilson/opt/anaconda3/envs/learn-env/lib/python3.8/site-packages (from notebook>=4.0->jupyter_contrib_nbextensions) (0.9.1)\n",
      "Requirement already satisfied: setuptools in /Users/mallorywilson/opt/anaconda3/envs/learn-env/lib/python3.8/site-packages (from jupyter-contrib-core>=0.3.3->jupyter_contrib_nbextensions) (50.3.0.post20201103)\n",
      "Requirement already satisfied: backcall in /Users/mallorywilson/opt/anaconda3/envs/learn-env/lib/python3.8/site-packages (from ipython->jupyter-latex-envs>=1.3.8->jupyter_contrib_nbextensions) (0.2.0)\n",
      "Requirement already satisfied: pexpect>4.3; sys_platform != \"win32\" in /Users/mallorywilson/opt/anaconda3/envs/learn-env/lib/python3.8/site-packages (from ipython->jupyter-latex-envs>=1.3.8->jupyter_contrib_nbextensions) (4.8.0)\n",
      "Requirement already satisfied: decorator in /Users/mallorywilson/opt/anaconda3/envs/learn-env/lib/python3.8/site-packages (from ipython->jupyter-latex-envs>=1.3.8->jupyter_contrib_nbextensions) (4.4.2)\n",
      "Requirement already satisfied: appnope; sys_platform == \"darwin\" in /Users/mallorywilson/opt/anaconda3/envs/learn-env/lib/python3.8/site-packages (from ipython->jupyter-latex-envs>=1.3.8->jupyter_contrib_nbextensions) (0.1.0)\n",
      "Requirement already satisfied: jedi>=0.10 in /Users/mallorywilson/opt/anaconda3/envs/learn-env/lib/python3.8/site-packages (from ipython->jupyter-latex-envs>=1.3.8->jupyter_contrib_nbextensions) (0.17.2)\n",
      "Requirement already satisfied: pickleshare in /Users/mallorywilson/opt/anaconda3/envs/learn-env/lib/python3.8/site-packages (from ipython->jupyter-latex-envs>=1.3.8->jupyter_contrib_nbextensions) (0.7.5)\n",
      "Requirement already satisfied: prompt-toolkit!=3.0.0,!=3.0.1,<3.1.0,>=2.0.0 in /Users/mallorywilson/opt/anaconda3/envs/learn-env/lib/python3.8/site-packages (from ipython->jupyter-latex-envs>=1.3.8->jupyter_contrib_nbextensions) (3.0.8)\n",
      "Requirement already satisfied: six>=1.9.0 in /Users/mallorywilson/opt/anaconda3/envs/learn-env/lib/python3.8/site-packages (from bleach->nbconvert>=4.2->jupyter_contrib_nbextensions) (1.15.0)\n",
      "Requirement already satisfied: packaging in /Users/mallorywilson/opt/anaconda3/envs/learn-env/lib/python3.8/site-packages (from bleach->nbconvert>=4.2->jupyter_contrib_nbextensions) (20.4)\n",
      "Requirement already satisfied: webencodings in /Users/mallorywilson/opt/anaconda3/envs/learn-env/lib/python3.8/site-packages (from bleach->nbconvert>=4.2->jupyter_contrib_nbextensions) (0.5.1)\n",
      "Requirement already satisfied: async-generator in /Users/mallorywilson/opt/anaconda3/envs/learn-env/lib/python3.8/site-packages (from nbclient<0.6.0,>=0.5.0->nbconvert>=4.2->jupyter_contrib_nbextensions) (1.10)\n",
      "Requirement already satisfied: nest-asyncio in /Users/mallorywilson/opt/anaconda3/envs/learn-env/lib/python3.8/site-packages (from nbclient<0.6.0,>=0.5.0->nbconvert>=4.2->jupyter_contrib_nbextensions) (1.4.1)\n",
      "Requirement already satisfied: jsonschema!=2.5.0,>=2.4 in /Users/mallorywilson/opt/anaconda3/envs/learn-env/lib/python3.8/site-packages (from nbformat>=4.4->nbconvert>=4.2->jupyter_contrib_nbextensions) (3.2.0)\n"
     ]
    },
    {
     "name": "stdout",
     "output_type": "stream",
     "text": [
      "Requirement already satisfied: MarkupSafe>=0.23 in /Users/mallorywilson/opt/anaconda3/envs/learn-env/lib/python3.8/site-packages (from jinja2>=2.4->nbconvert>=4.2->jupyter_contrib_nbextensions) (1.1.1)\n",
      "Requirement already satisfied: cffi>=1.0.0 in /Users/mallorywilson/opt/anaconda3/envs/learn-env/lib/python3.8/site-packages (from argon2-cffi->notebook>=4.0->jupyter_contrib_nbextensions) (1.14.3)\n",
      "Requirement already satisfied: python-dateutil>=2.1 in /Users/mallorywilson/opt/anaconda3/envs/learn-env/lib/python3.8/site-packages (from jupyter-client>=5.3.4->notebook>=4.0->jupyter_contrib_nbextensions) (2.8.1)\n",
      "Requirement already satisfied: ptyprocess; os_name != \"nt\" in /Users/mallorywilson/opt/anaconda3/envs/learn-env/lib/python3.8/site-packages (from terminado>=0.8.3->notebook>=4.0->jupyter_contrib_nbextensions) (0.6.0)\n",
      "Requirement already satisfied: parso<0.8.0,>=0.7.0 in /Users/mallorywilson/opt/anaconda3/envs/learn-env/lib/python3.8/site-packages (from jedi>=0.10->ipython->jupyter-latex-envs>=1.3.8->jupyter_contrib_nbextensions) (0.7.1)\n",
      "Requirement already satisfied: wcwidth in /Users/mallorywilson/opt/anaconda3/envs/learn-env/lib/python3.8/site-packages (from prompt-toolkit!=3.0.0,!=3.0.1,<3.1.0,>=2.0.0->ipython->jupyter-latex-envs>=1.3.8->jupyter_contrib_nbextensions) (0.2.5)\n",
      "Requirement already satisfied: pyparsing>=2.0.2 in /Users/mallorywilson/opt/anaconda3/envs/learn-env/lib/python3.8/site-packages (from packaging->bleach->nbconvert>=4.2->jupyter_contrib_nbextensions) (2.4.7)\n",
      "Requirement already satisfied: pyrsistent>=0.14.0 in /Users/mallorywilson/opt/anaconda3/envs/learn-env/lib/python3.8/site-packages (from jsonschema!=2.5.0,>=2.4->nbformat>=4.4->nbconvert>=4.2->jupyter_contrib_nbextensions) (0.17.3)\n",
      "Requirement already satisfied: attrs>=17.4.0 in /Users/mallorywilson/opt/anaconda3/envs/learn-env/lib/python3.8/site-packages (from jsonschema!=2.5.0,>=2.4->nbformat>=4.4->nbconvert>=4.2->jupyter_contrib_nbextensions) (20.2.0)\n",
      "Requirement already satisfied: pycparser in /Users/mallorywilson/opt/anaconda3/envs/learn-env/lib/python3.8/site-packages (from cffi>=1.0.0->argon2-cffi->notebook>=4.0->jupyter_contrib_nbextensions) (2.20)\n",
      "Note: you may need to restart the kernel to use updated packages.\n"
     ]
    }
   ],
   "source": [
    "pip install jupyter_contrib_nbextensions"
   ]
  },
  {
   "cell_type": "code",
   "execution_count": 2,
   "metadata": {},
   "outputs": [
    {
     "ename": "SyntaxError",
     "evalue": "invalid syntax (<ipython-input-2-063d2ad12fea>, line 1)",
     "output_type": "error",
     "traceback": [
      "\u001b[0;36m  File \u001b[0;32m\"<ipython-input-2-063d2ad12fea>\"\u001b[0;36m, line \u001b[0;32m1\u001b[0m\n\u001b[0;31m    jupyter contrib nbextension install\u001b[0m\n\u001b[0m            ^\u001b[0m\n\u001b[0;31mSyntaxError\u001b[0m\u001b[0;31m:\u001b[0m invalid syntax\n"
     ]
    }
   ],
   "source": [
    "jupyter contrib nbextension install\n"
   ]
  },
  {
   "cell_type": "code",
   "execution_count": 3,
   "metadata": {},
   "outputs": [
    {
     "name": "stdout",
     "output_type": "stream",
     "text": [
      "Requirement already satisfied: jupyter_contrib_nbextensions in /Users/mallorywilson/opt/anaconda3/envs/learn-env/lib/python3.8/site-packages (0.5.1)\n",
      "Requirement already satisfied: nbconvert>=4.2 in /Users/mallorywilson/opt/anaconda3/envs/learn-env/lib/python3.8/site-packages (from jupyter_contrib_nbextensions) (6.0.7)\n",
      "Requirement already satisfied: tornado in /Users/mallorywilson/opt/anaconda3/envs/learn-env/lib/python3.8/site-packages (from jupyter_contrib_nbextensions) (6.0.4)\n",
      "Requirement already satisfied: notebook>=4.0 in /Users/mallorywilson/opt/anaconda3/envs/learn-env/lib/python3.8/site-packages (from jupyter_contrib_nbextensions) (6.1.4)\n",
      "Requirement already satisfied: jupyter-core in /Users/mallorywilson/opt/anaconda3/envs/learn-env/lib/python3.8/site-packages (from jupyter_contrib_nbextensions) (4.6.3)\n",
      "Requirement already satisfied: traitlets>=4.1 in /Users/mallorywilson/opt/anaconda3/envs/learn-env/lib/python3.8/site-packages (from jupyter_contrib_nbextensions) (5.0.4)\n",
      "Requirement already satisfied: lxml in /Users/mallorywilson/opt/anaconda3/envs/learn-env/lib/python3.8/site-packages (from jupyter_contrib_nbextensions) (4.5.2)\n",
      "Requirement already satisfied: jupyter-highlight-selected-word>=0.1.1 in /Users/mallorywilson/opt/anaconda3/envs/learn-env/lib/python3.8/site-packages (from jupyter_contrib_nbextensions) (0.2.0)\n",
      "Requirement already satisfied: ipython-genutils in /Users/mallorywilson/opt/anaconda3/envs/learn-env/lib/python3.8/site-packages (from jupyter_contrib_nbextensions) (0.2.0)\n",
      "Requirement already satisfied: pyyaml in /Users/mallorywilson/opt/anaconda3/envs/learn-env/lib/python3.8/site-packages (from jupyter_contrib_nbextensions) (5.3.1)\n",
      "Requirement already satisfied: jupyter-contrib-core>=0.3.3 in /Users/mallorywilson/opt/anaconda3/envs/learn-env/lib/python3.8/site-packages (from jupyter_contrib_nbextensions) (0.3.3)\n",
      "Requirement already satisfied: jupyter-latex-envs>=1.3.8 in /Users/mallorywilson/opt/anaconda3/envs/learn-env/lib/python3.8/site-packages (from jupyter_contrib_nbextensions) (1.4.4)\n",
      "Requirement already satisfied: jupyter-nbextensions-configurator>=0.4.0 in /Users/mallorywilson/opt/anaconda3/envs/learn-env/lib/python3.8/site-packages (from jupyter_contrib_nbextensions) (0.4.1)\n",
      "Requirement already satisfied: entrypoints>=0.2.2 in /Users/mallorywilson/opt/anaconda3/envs/learn-env/lib/python3.8/site-packages (from nbconvert>=4.2->jupyter_contrib_nbextensions) (0.3)\n",
      "Requirement already satisfied: nbformat>=4.4 in /Users/mallorywilson/opt/anaconda3/envs/learn-env/lib/python3.8/site-packages (from nbconvert>=4.2->jupyter_contrib_nbextensions) (5.0.7)\n",
      "Requirement already satisfied: defusedxml in /Users/mallorywilson/opt/anaconda3/envs/learn-env/lib/python3.8/site-packages (from nbconvert>=4.2->jupyter_contrib_nbextensions) (0.6.0)\n",
      "Requirement already satisfied: pandocfilters>=1.4.1 in /Users/mallorywilson/opt/anaconda3/envs/learn-env/lib/python3.8/site-packages (from nbconvert>=4.2->jupyter_contrib_nbextensions) (1.4.2)\n",
      "Requirement already satisfied: nbclient<0.6.0,>=0.5.0 in /Users/mallorywilson/opt/anaconda3/envs/learn-env/lib/python3.8/site-packages (from nbconvert>=4.2->jupyter_contrib_nbextensions) (0.5.0)\n",
      "Requirement already satisfied: jinja2>=2.4 in /Users/mallorywilson/opt/anaconda3/envs/learn-env/lib/python3.8/site-packages (from nbconvert>=4.2->jupyter_contrib_nbextensions) (2.11.2)\n",
      "Requirement already satisfied: pygments>=2.4.1 in /Users/mallorywilson/opt/anaconda3/envs/learn-env/lib/python3.8/site-packages (from nbconvert>=4.2->jupyter_contrib_nbextensions) (2.7.1)\n",
      "Requirement already satisfied: jupyterlab-pygments in /Users/mallorywilson/opt/anaconda3/envs/learn-env/lib/python3.8/site-packages (from nbconvert>=4.2->jupyter_contrib_nbextensions) (0.1.2)\n",
      "Requirement already satisfied: testpath in /Users/mallorywilson/opt/anaconda3/envs/learn-env/lib/python3.8/site-packages (from nbconvert>=4.2->jupyter_contrib_nbextensions) (0.4.4)\n",
      "Requirement already satisfied: bleach in /Users/mallorywilson/opt/anaconda3/envs/learn-env/lib/python3.8/site-packages (from nbconvert>=4.2->jupyter_contrib_nbextensions) (3.2.1)\n",
      "Requirement already satisfied: mistune<2,>=0.8.1 in /Users/mallorywilson/opt/anaconda3/envs/learn-env/lib/python3.8/site-packages (from nbconvert>=4.2->jupyter_contrib_nbextensions) (0.8.4)\n",
      "Requirement already satisfied: Send2Trash in /Users/mallorywilson/opt/anaconda3/envs/learn-env/lib/python3.8/site-packages (from notebook>=4.0->jupyter_contrib_nbextensions) (1.5.0)\n",
      "Requirement already satisfied: terminado>=0.8.3 in /Users/mallorywilson/opt/anaconda3/envs/learn-env/lib/python3.8/site-packages (from notebook>=4.0->jupyter_contrib_nbextensions) (0.9.1)\n",
      "Requirement already satisfied: prometheus-client in /Users/mallorywilson/opt/anaconda3/envs/learn-env/lib/python3.8/site-packages (from notebook>=4.0->jupyter_contrib_nbextensions) (0.8.0)\n",
      "Requirement already satisfied: jupyter-client>=5.3.4 in /Users/mallorywilson/opt/anaconda3/envs/learn-env/lib/python3.8/site-packages (from notebook>=4.0->jupyter_contrib_nbextensions) (6.1.7)\n",
      "Requirement already satisfied: ipykernel in /Users/mallorywilson/opt/anaconda3/envs/learn-env/lib/python3.8/site-packages (from notebook>=4.0->jupyter_contrib_nbextensions) (5.3.4)\n",
      "Requirement already satisfied: argon2-cffi in /Users/mallorywilson/opt/anaconda3/envs/learn-env/lib/python3.8/site-packages (from notebook>=4.0->jupyter_contrib_nbextensions) (20.1.0)\n",
      "Requirement already satisfied: pyzmq>=17 in /Users/mallorywilson/opt/anaconda3/envs/learn-env/lib/python3.8/site-packages (from notebook>=4.0->jupyter_contrib_nbextensions) (19.0.2)\n",
      "Requirement already satisfied: setuptools in /Users/mallorywilson/opt/anaconda3/envs/learn-env/lib/python3.8/site-packages (from jupyter-contrib-core>=0.3.3->jupyter_contrib_nbextensions) (50.3.0.post20201103)\n",
      "Requirement already satisfied: ipython in /Users/mallorywilson/opt/anaconda3/envs/learn-env/lib/python3.8/site-packages (from jupyter-latex-envs>=1.3.8->jupyter_contrib_nbextensions) (7.18.1)\n",
      "Requirement already satisfied: jsonschema!=2.5.0,>=2.4 in /Users/mallorywilson/opt/anaconda3/envs/learn-env/lib/python3.8/site-packages (from nbformat>=4.4->nbconvert>=4.2->jupyter_contrib_nbextensions) (3.2.0)\n",
      "Requirement already satisfied: async-generator in /Users/mallorywilson/opt/anaconda3/envs/learn-env/lib/python3.8/site-packages (from nbclient<0.6.0,>=0.5.0->nbconvert>=4.2->jupyter_contrib_nbextensions) (1.10)\n",
      "Requirement already satisfied: nest-asyncio in /Users/mallorywilson/opt/anaconda3/envs/learn-env/lib/python3.8/site-packages (from nbclient<0.6.0,>=0.5.0->nbconvert>=4.2->jupyter_contrib_nbextensions) (1.4.1)\n",
      "Requirement already satisfied: MarkupSafe>=0.23 in /Users/mallorywilson/opt/anaconda3/envs/learn-env/lib/python3.8/site-packages (from jinja2>=2.4->nbconvert>=4.2->jupyter_contrib_nbextensions) (1.1.1)\n",
      "Requirement already satisfied: packaging in /Users/mallorywilson/opt/anaconda3/envs/learn-env/lib/python3.8/site-packages (from bleach->nbconvert>=4.2->jupyter_contrib_nbextensions) (20.4)\n",
      "Requirement already satisfied: webencodings in /Users/mallorywilson/opt/anaconda3/envs/learn-env/lib/python3.8/site-packages (from bleach->nbconvert>=4.2->jupyter_contrib_nbextensions) (0.5.1)\n",
      "Requirement already satisfied: six>=1.9.0 in /Users/mallorywilson/opt/anaconda3/envs/learn-env/lib/python3.8/site-packages (from bleach->nbconvert>=4.2->jupyter_contrib_nbextensions) (1.15.0)\n",
      "Requirement already satisfied: ptyprocess; os_name != \"nt\" in /Users/mallorywilson/opt/anaconda3/envs/learn-env/lib/python3.8/site-packages (from terminado>=0.8.3->notebook>=4.0->jupyter_contrib_nbextensions) (0.6.0)\n",
      "Requirement already satisfied: python-dateutil>=2.1 in /Users/mallorywilson/opt/anaconda3/envs/learn-env/lib/python3.8/site-packages (from jupyter-client>=5.3.4->notebook>=4.0->jupyter_contrib_nbextensions) (2.8.1)\n",
      "Requirement already satisfied: appnope; platform_system == \"Darwin\" in /Users/mallorywilson/opt/anaconda3/envs/learn-env/lib/python3.8/site-packages (from ipykernel->notebook>=4.0->jupyter_contrib_nbextensions) (0.1.0)\n",
      "Requirement already satisfied: cffi>=1.0.0 in /Users/mallorywilson/opt/anaconda3/envs/learn-env/lib/python3.8/site-packages (from argon2-cffi->notebook>=4.0->jupyter_contrib_nbextensions) (1.14.3)\n",
      "Requirement already satisfied: pickleshare in /Users/mallorywilson/opt/anaconda3/envs/learn-env/lib/python3.8/site-packages (from ipython->jupyter-latex-envs>=1.3.8->jupyter_contrib_nbextensions) (0.7.5)\n",
      "Requirement already satisfied: jedi>=0.10 in /Users/mallorywilson/opt/anaconda3/envs/learn-env/lib/python3.8/site-packages (from ipython->jupyter-latex-envs>=1.3.8->jupyter_contrib_nbextensions) (0.17.2)\n",
      "Requirement already satisfied: pexpect>4.3; sys_platform != \"win32\" in /Users/mallorywilson/opt/anaconda3/envs/learn-env/lib/python3.8/site-packages (from ipython->jupyter-latex-envs>=1.3.8->jupyter_contrib_nbextensions) (4.8.0)\n",
      "Requirement already satisfied: backcall in /Users/mallorywilson/opt/anaconda3/envs/learn-env/lib/python3.8/site-packages (from ipython->jupyter-latex-envs>=1.3.8->jupyter_contrib_nbextensions) (0.2.0)\n",
      "Requirement already satisfied: decorator in /Users/mallorywilson/opt/anaconda3/envs/learn-env/lib/python3.8/site-packages (from ipython->jupyter-latex-envs>=1.3.8->jupyter_contrib_nbextensions) (4.4.2)\n",
      "Requirement already satisfied: prompt-toolkit!=3.0.0,!=3.0.1,<3.1.0,>=2.0.0 in /Users/mallorywilson/opt/anaconda3/envs/learn-env/lib/python3.8/site-packages (from ipython->jupyter-latex-envs>=1.3.8->jupyter_contrib_nbextensions) (3.0.8)\n"
     ]
    },
    {
     "name": "stdout",
     "output_type": "stream",
     "text": [
      "Requirement already satisfied: attrs>=17.4.0 in /Users/mallorywilson/opt/anaconda3/envs/learn-env/lib/python3.8/site-packages (from jsonschema!=2.5.0,>=2.4->nbformat>=4.4->nbconvert>=4.2->jupyter_contrib_nbextensions) (20.2.0)\n",
      "Requirement already satisfied: pyrsistent>=0.14.0 in /Users/mallorywilson/opt/anaconda3/envs/learn-env/lib/python3.8/site-packages (from jsonschema!=2.5.0,>=2.4->nbformat>=4.4->nbconvert>=4.2->jupyter_contrib_nbextensions) (0.17.3)\n",
      "Requirement already satisfied: pyparsing>=2.0.2 in /Users/mallorywilson/opt/anaconda3/envs/learn-env/lib/python3.8/site-packages (from packaging->bleach->nbconvert>=4.2->jupyter_contrib_nbextensions) (2.4.7)\n",
      "Requirement already satisfied: pycparser in /Users/mallorywilson/opt/anaconda3/envs/learn-env/lib/python3.8/site-packages (from cffi>=1.0.0->argon2-cffi->notebook>=4.0->jupyter_contrib_nbextensions) (2.20)\n",
      "Requirement already satisfied: parso<0.8.0,>=0.7.0 in /Users/mallorywilson/opt/anaconda3/envs/learn-env/lib/python3.8/site-packages (from jedi>=0.10->ipython->jupyter-latex-envs>=1.3.8->jupyter_contrib_nbextensions) (0.7.1)\n",
      "Requirement already satisfied: wcwidth in /Users/mallorywilson/opt/anaconda3/envs/learn-env/lib/python3.8/site-packages (from prompt-toolkit!=3.0.0,!=3.0.1,<3.1.0,>=2.0.0->ipython->jupyter-latex-envs>=1.3.8->jupyter_contrib_nbextensions) (0.2.5)\n",
      "\u001b[32m[I 15:41:58 InstallContribNbextensionsApp]\u001b[m jupyter contrib nbextension install \n",
      "\u001b[32m[I 15:41:58 InstallContribNbextensionsApp]\u001b[m Installing jupyter_contrib_nbextensions nbextension files to jupyter data directory\n",
      "\u001b[32m[I 15:41:58 InstallContribNbextensionsApp]\u001b[m Installing /Users/mallorywilson/opt/anaconda3/envs/learn-env/lib/python3.8/site-packages/jupyter_contrib_nbextensions/nbextensions/rubberband -> rubberband\n",
      "Traceback (most recent call last):\n",
      "  File \"/Users/mallorywilson/opt/anaconda3/envs/learn-env/bin/jupyter-contrib\", line 10, in <module>\n",
      "    sys.exit(main())\n",
      "  File \"/Users/mallorywilson/opt/anaconda3/envs/learn-env/lib/python3.8/site-packages/jupyter_core/application.py\", line 270, in launch_instance\n",
      "    return super(JupyterApp, cls).launch_instance(argv=argv, **kwargs)\n",
      "  File \"/Users/mallorywilson/opt/anaconda3/envs/learn-env/lib/python3.8/site-packages/traitlets/config/application.py\", line 837, in launch_instance\n",
      "    app.start()\n",
      "  File \"/Users/mallorywilson/opt/anaconda3/envs/learn-env/lib/python3.8/site-packages/jupyter_contrib_core/application.py\", line 50, in start\n",
      "    super(JupyterContribApp, self).start()\n",
      "  File \"/Users/mallorywilson/opt/anaconda3/envs/learn-env/lib/python3.8/site-packages/jupyter_core/application.py\", line 259, in start\n",
      "    self.subapp.start()\n",
      "  File \"/Users/mallorywilson/opt/anaconda3/envs/learn-env/lib/python3.8/site-packages/jupyter_contrib_nbextensions/application.py\", line 231, in start\n",
      "    super(ContribNbextensionsApp, self).start()\n",
      "  File \"/Users/mallorywilson/opt/anaconda3/envs/learn-env/lib/python3.8/site-packages/jupyter_core/application.py\", line 259, in start\n",
      "    self.subapp.start()\n",
      "  File \"/Users/mallorywilson/opt/anaconda3/envs/learn-env/lib/python3.8/site-packages/jupyter_contrib_nbextensions/application.py\", line 178, in start\n",
      "    toggle_install_files(self._toggle_value, **kwargs_files)\n",
      "  File \"/Users/mallorywilson/opt/anaconda3/envs/learn-env/lib/python3.8/site-packages/jupyter_contrib_nbextensions/install.py\", line 74, in toggle_install_files\n",
      "    nbextensions.install_nbextension_python(\n",
      "  File \"/Users/mallorywilson/opt/anaconda3/envs/learn-env/lib/python3.8/site-packages/notebook/nbextensions.py\", line 217, in install_nbextension_python\n",
      "    full_dest = install_nbextension(\n",
      "  File \"/Users/mallorywilson/opt/anaconda3/envs/learn-env/lib/python3.8/site-packages/notebook/nbextensions.py\", line 121, in install_nbextension\n",
      "    ensure_dir_exists(nbext)\n",
      "  File \"/Users/mallorywilson/opt/anaconda3/envs/learn-env/lib/python3.8/site-packages/jupyter_core/utils/__init__.py\", line 13, in ensure_dir_exists\n",
      "    os.makedirs(path, mode=mode)\n",
      "  File \"/Users/mallorywilson/opt/anaconda3/envs/learn-env/lib/python3.8/os.py\", line 213, in makedirs\n",
      "    makedirs(head, exist_ok=exist_ok)\n",
      "  File \"/Users/mallorywilson/opt/anaconda3/envs/learn-env/lib/python3.8/os.py\", line 223, in makedirs\n",
      "    mkdir(name, mode)\n",
      "PermissionError: [Errno 13] Permission denied: '/usr/local/share/jupyter'\n",
      "Note: you may need to restart the kernel to use updated packages.\n"
     ]
    }
   ],
   "source": [
    "pip install jupyter_contrib_nbextensions && jupyter contrib nbextension install"
   ]
  },
  {
   "cell_type": "code",
   "execution_count": null,
   "metadata": {},
   "outputs": [],
   "source": []
  }
 ],
 "metadata": {
  "kernelspec": {
   "display_name": "learn-env",
   "language": "python",
   "name": "learn-env"
  },
  "language_info": {
   "codemirror_mode": {
    "name": "ipython",
    "version": 3
   },
   "file_extension": ".py",
   "mimetype": "text/x-python",
   "name": "python",
   "nbconvert_exporter": "python",
   "pygments_lexer": "ipython3",
   "version": "3.8.5"
  }
 },
 "nbformat": 4,
 "nbformat_minor": 4
}
